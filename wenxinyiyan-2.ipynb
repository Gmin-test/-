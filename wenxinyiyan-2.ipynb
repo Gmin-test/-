{
 "cells": [
  {
   "cell_type": "markdown",
   "id": "a966b5f7-d0aa-40ef-b1c5-e9db0c58fc70",
   "metadata": {},
   "source": [
    "# 文心一言的市场反馈"
   ]
  },
  {
   "cell_type": "markdown",
   "id": "72fdb69f-1a29-40d6-87db-1ce88224c66a",
   "metadata": {},
   "source": [
    "文心一言是百度打造出来的人工智能大语言模型，用户常与ChatGPT进行对比，由此本项目通过爬取知乎热帖 [ChatGPT 和文心一言哪个更好用](https://www.zhihu.com/question/620316514/answer/3236794110) 了解用户对文心一言的使用体验和看法。通过本项目的分析，我们期待能够为文心团队提供有价值的用户反馈和改进建议，进一步优化文心一言的功能和性能，提升用户体验。"
   ]
  },
  {
   "cell_type": "markdown",
   "id": "c33741a3-103d-4576-a4ab-06fae3780cf7",
   "metadata": {},
   "source": [
    "## 收集数据"
   ]
  },
  {
   "cell_type": "code",
   "execution_count": 20,
   "id": "60b50614-8385-42d5-85dc-46ab0f4bbed0",
   "metadata": {},
   "outputs": [],
   "source": [
    "import requests\n",
    "import time\n",
    "import pandas as pd\n",
    "import os\n",
    "import matplotlib.pyplot as plt\n",
    "import jieba\n",
    "import re"
   ]
  },
  {
   "cell_type": "markdown",
   "id": "14f8a1b1-ea10-4c1e-929b-d86e9a0beb7c",
   "metadata": {},
   "source": [
    "### 探索数据\n",
    "了解接口的数据量和数据结构。注意：为了保护个人数据，此处header信息删除。"
   ]
  },
  {
   "cell_type": "code",
   "execution_count": 97,
   "id": "e05f505b-23dd-4e06-98d7-511e2fc31ef7",
   "metadata": {},
   "outputs": [],
   "source": [
    "answer_id = '3236794110'\n",
    "offset = ''\n",
    "max_page = max_page \n",
    "page = 1\n",
    "all_raw_comments = []  # 存储所有评论的列表\n",
    "url = 'https://www.zhihu.com/api/v4/answers/{}/root_comments?order=normal&limit=20&offset={}&status=open'.format(answer_id, offset)"
   ]
  },
  {
   "cell_type": "code",
   "execution_count": 9,
   "id": "46b87e67-38e4-4aaf-a85f-bd5fe64e1c3f",
   "metadata": {},
   "outputs": [
    {
     "name": "stdout",
     "output_type": "stream",
     "text": [
      "一共421条评论\n"
     ]
    }
   ],
   "source": [
    "r0 = requests.get(url, headers=headers)\n",
    "total = r0.json()['counts']['total_counts']  # 一共多少条评论\n",
    "print('一共{}条评论'.format(total))"
   ]
  },
  {
   "cell_type": "code",
   "execution_count": 96,
   "id": "b77984e7-3cb8-465f-84d0-e2bf23a7fe25",
   "metadata": {},
   "outputs": [
    {
     "name": "stdout",
     "output_type": "stream",
     "text": [
      "max_page: 21\n"
     ]
    }
   ],
   "source": [
    "# 判断一共多少页（每页20条评论）\n",
    "max_page = int(total / 20)\n",
    "print('max_page:', max_page)"
   ]
  },
  {
   "cell_type": "markdown",
   "id": "fcb2dd77-c05f-4be4-b074-72429c54202d",
   "metadata": {},
   "source": [
    "### 解析数据\n",
    "该回答下的评论有21页，所以需要用循环获取每页的数据。"
   ]
  },
  {
   "cell_type": "code",
   "execution_count": 98,
   "id": "2a8c665a-c15d-4af6-a7dc-0c2903a26ea0",
   "metadata": {},
   "outputs": [
    {
     "name": "stdout",
     "output_type": "stream",
     "text": [
      "正在爬取第1页\n",
      "正在爬取第2页\n",
      "正在爬取第3页\n",
      "正在爬取第4页\n",
      "正在爬取第5页\n",
      "正在爬取第6页\n",
      "正在爬取第7页\n",
      "正在爬取第8页\n",
      "正在爬取第9页\n",
      "正在爬取第10页\n",
      "正在爬取第11页\n",
      "正在爬取第12页\n",
      "正在爬取第13页\n",
      "正在爬取第14页\n",
      "正在爬取第15页\n",
      "正在爬取第16页\n",
      "正在爬取第17页\n",
      "正在爬取第18页\n",
      "正在爬取第19页\n",
      "正在爬取第20页\n",
      "正在爬取第21页\n"
     ]
    }
   ],
   "source": [
    "while page <= max_page:\n",
    "    offset = (page - 1) * 20 if page > 1 else ''  # 如果是第一页，则偏移量为空，否则按照公式计算    \n",
    "    time.sleep(5) \n",
    "    r = requests.get(url, headers=headers)\n",
    "    i=0\n",
    "    print('正在爬取第{}页'.format(page))\n",
    "    if r.status_code == 200:\n",
    "        j_data = r.json()\n",
    "        comments = j_data['data']\n",
    "        \n",
    "        all_raw_comments.extend(comments)  # 将当前页面的评论追加到存储所有评论的列表中\n",
    "        \n",
    "        page += 1  # 将页数加1，继续下一页的循环\n",
    "        \n",
    "    else:\n",
    "        print('请求失败，状态码：', r.status_code)"
   ]
  },
  {
   "cell_type": "code",
   "execution_count": 49,
   "id": "9a2163b1-e881-474e-89be-34dbb11b3ce8",
   "metadata": {},
   "outputs": [
    {
     "data": {
      "text/plain": [
       "{'id': 10696042513,\n",
       " 'type': 'comment',\n",
       " 'url': 'https://www.zhihu.com/api/v4/comments/10696042513',\n",
       " 'content': '很详细[赞同][赞同][赞同]',\n",
       " 'featured': False,\n",
       " 'top': False,\n",
       " 'collapsed': False,\n",
       " 'is_author': False,\n",
       " 'is_delete': False,\n",
       " 'created_time': 1696441467,\n",
       " 'resource_type': 'answer',\n",
       " 'reviewing': False,\n",
       " 'allow_like': True,\n",
       " 'allow_delete': False,\n",
       " 'allow_reply': True,\n",
       " 'allow_vote': True,\n",
       " 'can_recommend': False,\n",
       " 'can_collapse': False,\n",
       " 'attached_info': 'ggIGCAsQARgC',\n",
       " 'author': {'role': 'normal',\n",
       "  'member': {'id': '67abaaa5b3729df0c4b940b68514330d',\n",
       "   'url_token': 'dym-3-25',\n",
       "   'name': '木兮小天地',\n",
       "   'avatar_url': 'https://picx.zhimg.com/v2-02c86d89cb091ff9cb6febc83e1f232f.jpg?source=06d4cd63',\n",
       "   'avatar_url_template': 'https://picx.zhimg.com/v2-02c86d89cb091ff9cb6febc83e1f232f.jpg?source=06d4cd63',\n",
       "   'is_org': False,\n",
       "   'type': 'people',\n",
       "   'url': 'https://www.zhihu.com/api/v4/people/67abaaa5b3729df0c4b940b68514330d',\n",
       "   'user_type': 'people',\n",
       "   'headline': '生活美学 | 家居艺术｜数码家电｜好物测评',\n",
       "   'badge': [],\n",
       "   'gender': -1,\n",
       "   'is_advertiser': False,\n",
       "   'vip_info': {'is_vip': False}}},\n",
       " 'vote_count': 1,\n",
       " 'reply_to_author': None,\n",
       " 'voting': False,\n",
       " 'liked': False,\n",
       " 'disliked': False,\n",
       " 'censor_status': 0,\n",
       " 'address_text': 'IP 属地广西',\n",
       " 'child_comment_count': 0,\n",
       " 'child_comments': []}"
      ]
     },
     "execution_count": 49,
     "metadata": {},
     "output_type": "execute_result"
    }
   ],
   "source": [
    "all_comments[2]"
   ]
  },
  {
   "cell_type": "markdown",
   "id": "ba08ab97-7725-461a-a4c5-7d624994a352",
   "metadata": {},
   "source": [
    "'child_comment_count'的值说明有的评论下还有二级评论，所以我决定用parent_id来表明层级关系，对每条评论抓取 id, ip, 内容(content), 创建时间(created_time)，子评论量(child_comment_count)。"
   ]
  },
  {
   "cell_type": "code",
   "execution_count": null,
   "id": "bacbdc13-53e9-4b7c-a7b9-480ce7c3e1f2",
   "metadata": {},
   "outputs": [],
   "source": [
    "# 创建一个空列表，用于存储所有评论对象\n",
    "all_comments = []\n",
    "\n",
    "# 遍历所有评论数据\n",
    "loop_count = 0\n",
    "for comment_data in all_raw_comments:\n",
    "    # 提取评论信息\n",
    "    comment_id = comment_data['id']\n",
    "    comment_content = comment_data['content']\n",
    "    comment_ip = comment_data['address_text'].split('属地')[-1].strip()\n",
    "    comment_gender = comment_data['author']['member']['gender']\n",
    "    comment_date = comment_data['created_time']\n",
    "    child_comment_count = comment_data['child_comment_count']\n",
    "    parent_id = comment_id\n",
    "    \n",
    "    loop_count += 1\n",
    "    print(loop_count)\n",
    "    # 判断是否有子评论\n",
    "    if child_comment_count != 0:\n",
    "        # 存储一级评论\n",
    "        top_level_comment = {\n",
    "            'id': comment_id ,\n",
    "            'content': comment_content,\n",
    "            'date': comment_date,\n",
    "            'ip': comment_ip,\n",
    "            'gender': comment_gender,\n",
    "            'child_comment_count': child_comment_count,\n",
    "            'parent_id': None  # 一级评论的 parent_id 为空\n",
    "        }\n",
    "        all_comments.append(top_level_comment)\n",
    "        \n",
    "        # 提取二级评论\n",
    "        child_url = 'https://www.zhihu.com/api/v4/comment_v5/comment/{}/child_comment?order_by=ts&limit=20&offset={}'.format(parent_id, offset)\n",
    "        while True:\n",
    "            time.sleep(5) \n",
    "            child_r = requests.get(child_url, headers=headers)\n",
    "            child_j_data = child_r.json()\n",
    "            \n",
    "            for child_comment in child_j_data['data']:\n",
    "                second_level_comment = {\n",
    "                    'id': child_comment['id'],\n",
    "                    'content': child_comment['content'],\n",
    "                    'date': child_comment['created_time'],\n",
    "                    'ip': child_comment['comment_tag'][0]['text'].split('属地')[-1].strip(),\n",
    "                    'gender': child_comment['author']['gender'],\n",
    "                    'child_comment_count': 0,  # 二级评论没有子评论\n",
    "                    'parent_id': parent_id   # 二级评论的 parent_id 为一级评论的 id\n",
    "                }\n",
    "                all_comments.append(second_level_comment)\n",
    "  \n",
    "            paging = child_j_data['paging']\n",
    "            if paging['is_end']:\n",
    "                break\n",
    "            else:\n",
    "                child_url = paging['next']\n",
    "                # print(child_url)\n",
    "\n",
    "            all_comments.append(second_level_comment)\n",
    "    else:\n",
    "        # 存储一级评论\n",
    "        top_level_comment = {\n",
    "            'id': comment_id,\n",
    "            'content': comment_content,\n",
    "            'date': comment_date,\n",
    "            'ip': comment_ip,\n",
    "            'gender': comment_gender,\n",
    "            'child_comment_count': 0,  # 一级评论没有子评论\n",
    "            'parent_id': None  # 一级评论的 parent_id 为空\n",
    "        }\n",
    "        all_comments.append(top_level_comment)\n",
    "\n",
    "print('好咯')"
   ]
  },
  {
   "cell_type": "code",
   "execution_count": 101,
   "id": "63fcb490-1da6-47a4-a523-e1b50adf5e43",
   "metadata": {},
   "outputs": [
    {
     "data": {
      "text/plain": [
       "424"
      ]
     },
     "execution_count": 101,
     "metadata": {},
     "output_type": "execute_result"
    }
   ],
   "source": [
    "len(all_comments)"
   ]
  },
  {
   "cell_type": "markdown",
   "id": "ae027c26-dd18-4071-a521-581a9d215f46",
   "metadata": {},
   "source": [
    "从该回答中总共获得了424条评论，将数据存储为dataframe 方便用pandas库进行操控。"
   ]
  },
  {
   "cell_type": "code",
   "execution_count": 104,
   "id": "bf865dbd-11f7-4d8d-ac6c-8b3877d20527",
   "metadata": {},
   "outputs": [
    {
     "data": {
      "text/html": [
       "<div>\n",
       "<style scoped>\n",
       "    .dataframe tbody tr th:only-of-type {\n",
       "        vertical-align: middle;\n",
       "    }\n",
       "\n",
       "    .dataframe tbody tr th {\n",
       "        vertical-align: top;\n",
       "    }\n",
       "\n",
       "    .dataframe thead th {\n",
       "        text-align: right;\n",
       "    }\n",
       "</style>\n",
       "<table border=\"1\" class=\"dataframe\">\n",
       "  <thead>\n",
       "    <tr style=\"text-align: right;\">\n",
       "      <th></th>\n",
       "      <th>id</th>\n",
       "      <th>content</th>\n",
       "      <th>date</th>\n",
       "      <th>ip</th>\n",
       "      <th>gender</th>\n",
       "      <th>child_comment_count</th>\n",
       "      <th>parent_id</th>\n",
       "    </tr>\n",
       "  </thead>\n",
       "  <tbody>\n",
       "    <tr>\n",
       "      <th>0</th>\n",
       "      <td>10695921940</td>\n",
       "      <td>我的建议是有条件就一步到位直接上gpt4，其他的都不用考虑，退而求其次就是new bing ...</td>\n",
       "      <td>1696431540</td>\n",
       "      <td>浙江</td>\n",
       "      <td>1</td>\n",
       "      <td>40</td>\n",
       "      <td>NaN</td>\n",
       "    </tr>\n",
       "    <tr>\n",
       "      <th>1</th>\n",
       "      <td>10696038327</td>\n",
       "      <td>Gpt4好，就是要钱太贵[捂脸]</td>\n",
       "      <td>1696431744</td>\n",
       "      <td>福建</td>\n",
       "      <td>2</td>\n",
       "      <td>0</td>\n",
       "      <td>1.069592e+10</td>\n",
       "    </tr>\n",
       "    <tr>\n",
       "      <th>2</th>\n",
       "      <td>10695691786</td>\n",
       "      <td>找几个朋友一起拼车，分担一下费用会好很多</td>\n",
       "      <td>1696432130</td>\n",
       "      <td>浙江</td>\n",
       "      <td>2</td>\n",
       "      <td>0</td>\n",
       "      <td>1.069592e+10</td>\n",
       "    </tr>\n",
       "    <tr>\n",
       "      <th>3</th>\n",
       "      <td>10698881848</td>\n",
       "      <td>4要钱，而且要魔法，随时可能账号被封</td>\n",
       "      <td>1696775450</td>\n",
       "      <td>福建</td>\n",
       "      <td>0</td>\n",
       "      <td>0</td>\n",
       "      <td>1.069592e+10</td>\n",
       "    </tr>\n",
       "    <tr>\n",
       "      <th>4</th>\n",
       "      <td>10698899555</td>\n",
       "      <td>要钱不是很正常吗，完全物超所值的呀，不要一堆人瞎用根本不会被封号，我和朋友共用了几个月都没遇...</td>\n",
       "      <td>1696775665</td>\n",
       "      <td>浙江</td>\n",
       "      <td>2</td>\n",
       "      <td>0</td>\n",
       "      <td>1.069592e+10</td>\n",
       "    </tr>\n",
       "    <tr>\n",
       "      <th>...</th>\n",
       "      <td>...</td>\n",
       "      <td>...</td>\n",
       "      <td>...</td>\n",
       "      <td>...</td>\n",
       "      <td>...</td>\n",
       "      <td>...</td>\n",
       "      <td>...</td>\n",
       "    </tr>\n",
       "    <tr>\n",
       "      <th>419</th>\n",
       "      <td>10755016037</td>\n",
       "      <td>别尬吹了 你让文心一言画个炒饼就知道谁厉害了 [doge]</td>\n",
       "      <td>1702960511</td>\n",
       "      <td>北京</td>\n",
       "      <td>-1</td>\n",
       "      <td>0</td>\n",
       "      <td>NaN</td>\n",
       "    </tr>\n",
       "    <tr>\n",
       "      <th>420</th>\n",
       "      <td>10749932644</td>\n",
       "      <td>&lt;p&gt;图贴的多就有道理麽？文心一言都说好用，那真是大便当巧克力吃~~~~&lt;/p&gt;</td>\n",
       "      <td>1702364083</td>\n",
       "      <td>上海</td>\n",
       "      <td>1</td>\n",
       "      <td>3</td>\n",
       "      <td>NaN</td>\n",
       "    </tr>\n",
       "    <tr>\n",
       "      <th>421</th>\n",
       "      <td>10750196814</td>\n",
       "      <td>提示词不会用，用什么大模型都出不了效果，我日常就是用文心一言</td>\n",
       "      <td>1702364210</td>\n",
       "      <td>福建</td>\n",
       "      <td>2</td>\n",
       "      <td>0</td>\n",
       "      <td>1.074993e+10</td>\n",
       "    </tr>\n",
       "    <tr>\n",
       "      <th>422</th>\n",
       "      <td>10753947364</td>\n",
       "      <td>看我主页对文心4.0的数学测试</td>\n",
       "      <td>1702775250</td>\n",
       "      <td>河南</td>\n",
       "      <td>2</td>\n",
       "      <td>0</td>\n",
       "      <td>1.074993e+10</td>\n",
       "    </tr>\n",
       "    <tr>\n",
       "      <th>423</th>\n",
       "      <td>10758933423</td>\n",
       "      <td>文心一言能用python语言编程，也能做PPT，我觉得蛮好用的</td>\n",
       "      <td>1703380531</td>\n",
       "      <td>新疆</td>\n",
       "      <td>0</td>\n",
       "      <td>0</td>\n",
       "      <td>1.074993e+10</td>\n",
       "    </tr>\n",
       "  </tbody>\n",
       "</table>\n",
       "<p>424 rows × 7 columns</p>\n",
       "</div>"
      ],
      "text/plain": [
       "              id                                            content  \\\n",
       "0    10695921940  我的建议是有条件就一步到位直接上gpt4，其他的都不用考虑，退而求其次就是new bing ...   \n",
       "1    10696038327                                   Gpt4好，就是要钱太贵[捂脸]   \n",
       "2    10695691786                               找几个朋友一起拼车，分担一下费用会好很多   \n",
       "3    10698881848                                 4要钱，而且要魔法，随时可能账号被封   \n",
       "4    10698899555  要钱不是很正常吗，完全物超所值的呀，不要一堆人瞎用根本不会被封号，我和朋友共用了几个月都没遇...   \n",
       "..           ...                                                ...   \n",
       "419  10755016037                      别尬吹了 你让文心一言画个炒饼就知道谁厉害了 [doge]   \n",
       "420  10749932644           <p>图贴的多就有道理麽？文心一言都说好用，那真是大便当巧克力吃~~~~</p>   \n",
       "421  10750196814                     提示词不会用，用什么大模型都出不了效果，我日常就是用文心一言   \n",
       "422  10753947364                                    看我主页对文心4.0的数学测试   \n",
       "423  10758933423                    文心一言能用python语言编程，也能做PPT，我觉得蛮好用的   \n",
       "\n",
       "           date  ip  gender  child_comment_count     parent_id  \n",
       "0    1696431540  浙江       1                   40           NaN  \n",
       "1    1696431744  福建       2                    0  1.069592e+10  \n",
       "2    1696432130  浙江       2                    0  1.069592e+10  \n",
       "3    1696775450  福建       0                    0  1.069592e+10  \n",
       "4    1696775665  浙江       2                    0  1.069592e+10  \n",
       "..          ...  ..     ...                  ...           ...  \n",
       "419  1702960511  北京      -1                    0           NaN  \n",
       "420  1702364083  上海       1                    3           NaN  \n",
       "421  1702364210  福建       2                    0  1.074993e+10  \n",
       "422  1702775250  河南       2                    0  1.074993e+10  \n",
       "423  1703380531  新疆       0                    0  1.074993e+10  \n",
       "\n",
       "[424 rows x 7 columns]"
      ]
     },
     "execution_count": 104,
     "metadata": {},
     "output_type": "execute_result"
    }
   ],
   "source": [
    "df = pd.DataFrame(all_comments)\n",
    "df "
   ]
  },
  {
   "cell_type": "code",
   "execution_count": 114,
   "id": "be0b381a-0b78-4527-82e1-26159dda88fa",
   "metadata": {},
   "outputs": [],
   "source": [
    "#将当前数据保存\n",
    "df.to_csv('df_0422.csv')"
   ]
  },
  {
   "cell_type": "markdown",
   "id": "f6737cbd-82c9-4b28-af1c-2029a1fb2a55",
   "metadata": {
    "jp-MarkdownHeadingCollapsed": true
   },
   "source": [
    "### 清理数据\n",
    "1. 处理parent_id列：确保parent_id列中的值不使用科学计数法，并将其转换为字符串形式，以便在数据集中保持一致性。\n",
    "2.   处理(gender)性别列：将性别列中的未知参数（例0和-1，2）转换为可识别的标签（例如，\"Unknown\"），以便更好地理解和分析数\n",
    "3. 日期(date)处理时间列：将时间时间戳十位数字转换为可读的日期时间格式，以便更容易理解和分析时间相关的数据。"
   ]
  },
  {
   "cell_type": "code",
   "execution_count": 128,
   "id": "b741b964-6568-49aa-a716-09570c6f270e",
   "metadata": {},
   "outputs": [
    {
     "data": {
      "text/html": [
       "<div>\n",
       "<style scoped>\n",
       "    .dataframe tbody tr th:only-of-type {\n",
       "        vertical-align: middle;\n",
       "    }\n",
       "\n",
       "    .dataframe tbody tr th {\n",
       "        vertical-align: top;\n",
       "    }\n",
       "\n",
       "    .dataframe thead th {\n",
       "        text-align: right;\n",
       "    }\n",
       "</style>\n",
       "<table border=\"1\" class=\"dataframe\">\n",
       "  <thead>\n",
       "    <tr style=\"text-align: right;\">\n",
       "      <th></th>\n",
       "      <th>id</th>\n",
       "      <th>content</th>\n",
       "      <th>date</th>\n",
       "      <th>ip</th>\n",
       "      <th>gender</th>\n",
       "      <th>child_comment_count</th>\n",
       "      <th>parent_id</th>\n",
       "    </tr>\n",
       "  </thead>\n",
       "  <tbody>\n",
       "    <tr>\n",
       "      <th>0</th>\n",
       "      <td>10695921940</td>\n",
       "      <td>我的建议是有条件就一步到位直接上gpt4，其他的都不用考虑，退而求其次就是new bing ...</td>\n",
       "      <td>1696431540</td>\n",
       "      <td>浙江</td>\n",
       "      <td>1</td>\n",
       "      <td>40</td>\n",
       "      <td>NaN</td>\n",
       "    </tr>\n",
       "    <tr>\n",
       "      <th>1</th>\n",
       "      <td>10696038327</td>\n",
       "      <td>Gpt4好，就是要钱太贵[捂脸]</td>\n",
       "      <td>1696431744</td>\n",
       "      <td>福建</td>\n",
       "      <td>2</td>\n",
       "      <td>0</td>\n",
       "      <td>10695921940</td>\n",
       "    </tr>\n",
       "    <tr>\n",
       "      <th>2</th>\n",
       "      <td>10695691786</td>\n",
       "      <td>找几个朋友一起拼车，分担一下费用会好很多</td>\n",
       "      <td>1696432130</td>\n",
       "      <td>浙江</td>\n",
       "      <td>2</td>\n",
       "      <td>0</td>\n",
       "      <td>10695921940</td>\n",
       "    </tr>\n",
       "    <tr>\n",
       "      <th>3</th>\n",
       "      <td>10698881848</td>\n",
       "      <td>4要钱，而且要魔法，随时可能账号被封</td>\n",
       "      <td>1696775450</td>\n",
       "      <td>福建</td>\n",
       "      <td>0</td>\n",
       "      <td>0</td>\n",
       "      <td>10695921940</td>\n",
       "    </tr>\n",
       "    <tr>\n",
       "      <th>4</th>\n",
       "      <td>10698899555</td>\n",
       "      <td>要钱不是很正常吗，完全物超所值的呀，不要一堆人瞎用根本不会被封号，我和朋友共用了几个月都没遇...</td>\n",
       "      <td>1696775665</td>\n",
       "      <td>浙江</td>\n",
       "      <td>2</td>\n",
       "      <td>0</td>\n",
       "      <td>10695921940</td>\n",
       "    </tr>\n",
       "    <tr>\n",
       "      <th>...</th>\n",
       "      <td>...</td>\n",
       "      <td>...</td>\n",
       "      <td>...</td>\n",
       "      <td>...</td>\n",
       "      <td>...</td>\n",
       "      <td>...</td>\n",
       "      <td>...</td>\n",
       "    </tr>\n",
       "    <tr>\n",
       "      <th>419</th>\n",
       "      <td>10755016037</td>\n",
       "      <td>别尬吹了 你让文心一言画个炒饼就知道谁厉害了 [doge]</td>\n",
       "      <td>1702960511</td>\n",
       "      <td>北京</td>\n",
       "      <td>-1</td>\n",
       "      <td>0</td>\n",
       "      <td>NaN</td>\n",
       "    </tr>\n",
       "    <tr>\n",
       "      <th>420</th>\n",
       "      <td>10749932644</td>\n",
       "      <td>&lt;p&gt;图贴的多就有道理麽？文心一言都说好用，那真是大便当巧克力吃~~~~&lt;/p&gt;</td>\n",
       "      <td>1702364083</td>\n",
       "      <td>上海</td>\n",
       "      <td>1</td>\n",
       "      <td>3</td>\n",
       "      <td>NaN</td>\n",
       "    </tr>\n",
       "    <tr>\n",
       "      <th>421</th>\n",
       "      <td>10750196814</td>\n",
       "      <td>提示词不会用，用什么大模型都出不了效果，我日常就是用文心一言</td>\n",
       "      <td>1702364210</td>\n",
       "      <td>福建</td>\n",
       "      <td>2</td>\n",
       "      <td>0</td>\n",
       "      <td>10749932644</td>\n",
       "    </tr>\n",
       "    <tr>\n",
       "      <th>422</th>\n",
       "      <td>10753947364</td>\n",
       "      <td>看我主页对文心4.0的数学测试</td>\n",
       "      <td>1702775250</td>\n",
       "      <td>河南</td>\n",
       "      <td>2</td>\n",
       "      <td>0</td>\n",
       "      <td>10749932644</td>\n",
       "    </tr>\n",
       "    <tr>\n",
       "      <th>423</th>\n",
       "      <td>10758933423</td>\n",
       "      <td>文心一言能用python语言编程，也能做PPT，我觉得蛮好用的</td>\n",
       "      <td>1703380531</td>\n",
       "      <td>新疆</td>\n",
       "      <td>0</td>\n",
       "      <td>0</td>\n",
       "      <td>10749932644</td>\n",
       "    </tr>\n",
       "  </tbody>\n",
       "</table>\n",
       "<p>424 rows × 7 columns</p>\n",
       "</div>"
      ],
      "text/plain": [
       "              id                                            content  \\\n",
       "0    10695921940  我的建议是有条件就一步到位直接上gpt4，其他的都不用考虑，退而求其次就是new bing ...   \n",
       "1    10696038327                                   Gpt4好，就是要钱太贵[捂脸]   \n",
       "2    10695691786                               找几个朋友一起拼车，分担一下费用会好很多   \n",
       "3    10698881848                                 4要钱，而且要魔法，随时可能账号被封   \n",
       "4    10698899555  要钱不是很正常吗，完全物超所值的呀，不要一堆人瞎用根本不会被封号，我和朋友共用了几个月都没遇...   \n",
       "..           ...                                                ...   \n",
       "419  10755016037                      别尬吹了 你让文心一言画个炒饼就知道谁厉害了 [doge]   \n",
       "420  10749932644           <p>图贴的多就有道理麽？文心一言都说好用，那真是大便当巧克力吃~~~~</p>   \n",
       "421  10750196814                     提示词不会用，用什么大模型都出不了效果，我日常就是用文心一言   \n",
       "422  10753947364                                    看我主页对文心4.0的数学测试   \n",
       "423  10758933423                    文心一言能用python语言编程，也能做PPT，我觉得蛮好用的   \n",
       "\n",
       "           date  ip  gender  child_comment_count    parent_id  \n",
       "0    1696431540  浙江       1                   40          NaN  \n",
       "1    1696431744  福建       2                    0  10695921940  \n",
       "2    1696432130  浙江       2                    0  10695921940  \n",
       "3    1696775450  福建       0                    0  10695921940  \n",
       "4    1696775665  浙江       2                    0  10695921940  \n",
       "..          ...  ..     ...                  ...          ...  \n",
       "419  1702960511  北京      -1                    0          NaN  \n",
       "420  1702364083  上海       1                    3          NaN  \n",
       "421  1702364210  福建       2                    0  10749932644  \n",
       "422  1702775250  河南       2                    0  10749932644  \n",
       "423  1703380531  新疆       0                    0  10749932644  \n",
       "\n",
       "[424 rows x 7 columns]"
      ]
     },
     "execution_count": 128,
     "metadata": {},
     "output_type": "execute_result"
    }
   ],
   "source": [
    "df = pd.read_csv('df_0422.csv')\n",
    "df = df.drop(df.columns[0], axis=1)\n",
    "# 讲科学计数转为字符串\n",
    "df['parent_id'] = df['parent_id'].apply(lambda x: '{:.0f}'.format(x) if pd.notnull(x) else x)\n",
    "df"
   ]
  },
  {
   "cell_type": "code",
   "execution_count": 129,
   "id": "501b9001-917c-4ef8-91b9-78f92723d4ed",
   "metadata": {},
   "outputs": [
    {
     "data": {
      "text/html": [
       "<div>\n",
       "<style scoped>\n",
       "    .dataframe tbody tr th:only-of-type {\n",
       "        vertical-align: middle;\n",
       "    }\n",
       "\n",
       "    .dataframe tbody tr th {\n",
       "        vertical-align: top;\n",
       "    }\n",
       "\n",
       "    .dataframe thead th {\n",
       "        text-align: right;\n",
       "    }\n",
       "</style>\n",
       "<table border=\"1\" class=\"dataframe\">\n",
       "  <thead>\n",
       "    <tr style=\"text-align: right;\">\n",
       "      <th></th>\n",
       "      <th>id</th>\n",
       "      <th>content</th>\n",
       "      <th>date</th>\n",
       "      <th>ip</th>\n",
       "      <th>gender</th>\n",
       "      <th>child_comment_count</th>\n",
       "      <th>parent_id</th>\n",
       "    </tr>\n",
       "  </thead>\n",
       "  <tbody>\n",
       "    <tr>\n",
       "      <th>0</th>\n",
       "      <td>10695921940</td>\n",
       "      <td>我的建议是有条件就一步到位直接上gpt4，其他的都不用考虑，退而求其次就是new bing ...</td>\n",
       "      <td>2023-10-04 16:59:00</td>\n",
       "      <td>浙江</td>\n",
       "      <td>1</td>\n",
       "      <td>40</td>\n",
       "      <td>NaN</td>\n",
       "    </tr>\n",
       "    <tr>\n",
       "      <th>1</th>\n",
       "      <td>10696038327</td>\n",
       "      <td>Gpt4好，就是要钱太贵[捂脸]</td>\n",
       "      <td>2023-10-04 17:02:24</td>\n",
       "      <td>福建</td>\n",
       "      <td>2</td>\n",
       "      <td>0</td>\n",
       "      <td>10695921940</td>\n",
       "    </tr>\n",
       "    <tr>\n",
       "      <th>2</th>\n",
       "      <td>10695691786</td>\n",
       "      <td>找几个朋友一起拼车，分担一下费用会好很多</td>\n",
       "      <td>2023-10-04 17:08:50</td>\n",
       "      <td>浙江</td>\n",
       "      <td>2</td>\n",
       "      <td>0</td>\n",
       "      <td>10695921940</td>\n",
       "    </tr>\n",
       "    <tr>\n",
       "      <th>3</th>\n",
       "      <td>10698881848</td>\n",
       "      <td>4要钱，而且要魔法，随时可能账号被封</td>\n",
       "      <td>2023-10-08 16:30:50</td>\n",
       "      <td>福建</td>\n",
       "      <td>0</td>\n",
       "      <td>0</td>\n",
       "      <td>10695921940</td>\n",
       "    </tr>\n",
       "    <tr>\n",
       "      <th>4</th>\n",
       "      <td>10698899555</td>\n",
       "      <td>要钱不是很正常吗，完全物超所值的呀，不要一堆人瞎用根本不会被封号，我和朋友共用了几个月都没遇...</td>\n",
       "      <td>2023-10-08 16:34:25</td>\n",
       "      <td>浙江</td>\n",
       "      <td>2</td>\n",
       "      <td>0</td>\n",
       "      <td>10695921940</td>\n",
       "    </tr>\n",
       "    <tr>\n",
       "      <th>...</th>\n",
       "      <td>...</td>\n",
       "      <td>...</td>\n",
       "      <td>...</td>\n",
       "      <td>...</td>\n",
       "      <td>...</td>\n",
       "      <td>...</td>\n",
       "      <td>...</td>\n",
       "    </tr>\n",
       "    <tr>\n",
       "      <th>419</th>\n",
       "      <td>10755016037</td>\n",
       "      <td>别尬吹了 你让文心一言画个炒饼就知道谁厉害了 [doge]</td>\n",
       "      <td>2023-12-19 05:35:11</td>\n",
       "      <td>北京</td>\n",
       "      <td>-1</td>\n",
       "      <td>0</td>\n",
       "      <td>NaN</td>\n",
       "    </tr>\n",
       "    <tr>\n",
       "      <th>420</th>\n",
       "      <td>10749932644</td>\n",
       "      <td>&lt;p&gt;图贴的多就有道理麽？文心一言都说好用，那真是大便当巧克力吃~~~~&lt;/p&gt;</td>\n",
       "      <td>2023-12-12 07:54:43</td>\n",
       "      <td>上海</td>\n",
       "      <td>1</td>\n",
       "      <td>3</td>\n",
       "      <td>NaN</td>\n",
       "    </tr>\n",
       "    <tr>\n",
       "      <th>421</th>\n",
       "      <td>10750196814</td>\n",
       "      <td>提示词不会用，用什么大模型都出不了效果，我日常就是用文心一言</td>\n",
       "      <td>2023-12-12 07:56:50</td>\n",
       "      <td>福建</td>\n",
       "      <td>2</td>\n",
       "      <td>0</td>\n",
       "      <td>10749932644</td>\n",
       "    </tr>\n",
       "    <tr>\n",
       "      <th>422</th>\n",
       "      <td>10753947364</td>\n",
       "      <td>看我主页对文心4.0的数学测试</td>\n",
       "      <td>2023-12-17 02:07:30</td>\n",
       "      <td>河南</td>\n",
       "      <td>2</td>\n",
       "      <td>0</td>\n",
       "      <td>10749932644</td>\n",
       "    </tr>\n",
       "    <tr>\n",
       "      <th>423</th>\n",
       "      <td>10758933423</td>\n",
       "      <td>文心一言能用python语言编程，也能做PPT，我觉得蛮好用的</td>\n",
       "      <td>2023-12-24 02:15:31</td>\n",
       "      <td>新疆</td>\n",
       "      <td>0</td>\n",
       "      <td>0</td>\n",
       "      <td>10749932644</td>\n",
       "    </tr>\n",
       "  </tbody>\n",
       "</table>\n",
       "<p>424 rows × 7 columns</p>\n",
       "</div>"
      ],
      "text/plain": [
       "              id                                            content  \\\n",
       "0    10695921940  我的建议是有条件就一步到位直接上gpt4，其他的都不用考虑，退而求其次就是new bing ...   \n",
       "1    10696038327                                   Gpt4好，就是要钱太贵[捂脸]   \n",
       "2    10695691786                               找几个朋友一起拼车，分担一下费用会好很多   \n",
       "3    10698881848                                 4要钱，而且要魔法，随时可能账号被封   \n",
       "4    10698899555  要钱不是很正常吗，完全物超所值的呀，不要一堆人瞎用根本不会被封号，我和朋友共用了几个月都没遇...   \n",
       "..           ...                                                ...   \n",
       "419  10755016037                      别尬吹了 你让文心一言画个炒饼就知道谁厉害了 [doge]   \n",
       "420  10749932644           <p>图贴的多就有道理麽？文心一言都说好用，那真是大便当巧克力吃~~~~</p>   \n",
       "421  10750196814                     提示词不会用，用什么大模型都出不了效果，我日常就是用文心一言   \n",
       "422  10753947364                                    看我主页对文心4.0的数学测试   \n",
       "423  10758933423                    文心一言能用python语言编程，也能做PPT，我觉得蛮好用的   \n",
       "\n",
       "                    date  ip  gender  child_comment_count    parent_id  \n",
       "0    2023-10-04 16:59:00  浙江       1                   40          NaN  \n",
       "1    2023-10-04 17:02:24  福建       2                    0  10695921940  \n",
       "2    2023-10-04 17:08:50  浙江       2                    0  10695921940  \n",
       "3    2023-10-08 16:30:50  福建       0                    0  10695921940  \n",
       "4    2023-10-08 16:34:25  浙江       2                    0  10695921940  \n",
       "..                   ...  ..     ...                  ...          ...  \n",
       "419  2023-12-19 05:35:11  北京      -1                    0          NaN  \n",
       "420  2023-12-12 07:54:43  上海       1                    3          NaN  \n",
       "421  2023-12-12 07:56:50  福建       2                    0  10749932644  \n",
       "422  2023-12-17 02:07:30  河南       2                    0  10749932644  \n",
       "423  2023-12-24 02:15:31  新疆       0                    0  10749932644  \n",
       "\n",
       "[424 rows x 7 columns]"
      ]
     },
     "execution_count": 129,
     "metadata": {},
     "output_type": "execute_result"
    }
   ],
   "source": [
    "def trans_date(v_timestamp):\n",
    "\t#10位时间戳转换为时间字符串\n",
    "\ttimeArray = time.localtime(v_timestamp)\n",
    "\totherStyleTime = time.strftime(\"%Y-%m-%d %H:%M:%S\", timeArray)\n",
    "\treturn otherStyleTime\n",
    "\n",
    "df['date'] = df['date'].apply(trans_date)\n",
    "df"
   ]
  },
  {
   "cell_type": "code",
   "execution_count": 133,
   "id": "cf8e22f5-ec9a-44d4-9d46-056c61a8355f",
   "metadata": {},
   "outputs": [
    {
     "data": {
      "text/html": [
       "<div>\n",
       "<style scoped>\n",
       "    .dataframe tbody tr th:only-of-type {\n",
       "        vertical-align: middle;\n",
       "    }\n",
       "\n",
       "    .dataframe tbody tr th {\n",
       "        vertical-align: top;\n",
       "    }\n",
       "\n",
       "    .dataframe thead th {\n",
       "        text-align: right;\n",
       "    }\n",
       "</style>\n",
       "<table border=\"1\" class=\"dataframe\">\n",
       "  <thead>\n",
       "    <tr style=\"text-align: right;\">\n",
       "      <th></th>\n",
       "      <th>id</th>\n",
       "      <th>content</th>\n",
       "      <th>date</th>\n",
       "      <th>ip</th>\n",
       "      <th>gender</th>\n",
       "      <th>child_comment_count</th>\n",
       "      <th>parent_id</th>\n",
       "    </tr>\n",
       "  </thead>\n",
       "  <tbody>\n",
       "    <tr>\n",
       "      <th>0</th>\n",
       "      <td>10695921940</td>\n",
       "      <td>我的建议是有条件就一步到位直接上gpt4，其他的都不用考虑，退而求其次就是new bing ...</td>\n",
       "      <td>2023-10-04 16:59:00</td>\n",
       "      <td>浙江</td>\n",
       "      <td>Female</td>\n",
       "      <td>40</td>\n",
       "      <td>NaN</td>\n",
       "    </tr>\n",
       "    <tr>\n",
       "      <th>1</th>\n",
       "      <td>10696038327</td>\n",
       "      <td>Gpt4好，就是要钱太贵[捂脸]</td>\n",
       "      <td>2023-10-04 17:02:24</td>\n",
       "      <td>福建</td>\n",
       "      <td>Male</td>\n",
       "      <td>0</td>\n",
       "      <td>10695921940</td>\n",
       "    </tr>\n",
       "    <tr>\n",
       "      <th>2</th>\n",
       "      <td>10695691786</td>\n",
       "      <td>找几个朋友一起拼车，分担一下费用会好很多</td>\n",
       "      <td>2023-10-04 17:08:50</td>\n",
       "      <td>浙江</td>\n",
       "      <td>Male</td>\n",
       "      <td>0</td>\n",
       "      <td>10695921940</td>\n",
       "    </tr>\n",
       "    <tr>\n",
       "      <th>3</th>\n",
       "      <td>10698881848</td>\n",
       "      <td>4要钱，而且要魔法，随时可能账号被封</td>\n",
       "      <td>2023-10-08 16:30:50</td>\n",
       "      <td>福建</td>\n",
       "      <td>Unknown</td>\n",
       "      <td>0</td>\n",
       "      <td>10695921940</td>\n",
       "    </tr>\n",
       "    <tr>\n",
       "      <th>4</th>\n",
       "      <td>10698899555</td>\n",
       "      <td>要钱不是很正常吗，完全物超所值的呀，不要一堆人瞎用根本不会被封号，我和朋友共用了几个月都没遇...</td>\n",
       "      <td>2023-10-08 16:34:25</td>\n",
       "      <td>浙江</td>\n",
       "      <td>Male</td>\n",
       "      <td>0</td>\n",
       "      <td>10695921940</td>\n",
       "    </tr>\n",
       "    <tr>\n",
       "      <th>...</th>\n",
       "      <td>...</td>\n",
       "      <td>...</td>\n",
       "      <td>...</td>\n",
       "      <td>...</td>\n",
       "      <td>...</td>\n",
       "      <td>...</td>\n",
       "      <td>...</td>\n",
       "    </tr>\n",
       "    <tr>\n",
       "      <th>419</th>\n",
       "      <td>10755016037</td>\n",
       "      <td>别尬吹了 你让文心一言画个炒饼就知道谁厉害了 [doge]</td>\n",
       "      <td>2023-12-19 05:35:11</td>\n",
       "      <td>北京</td>\n",
       "      <td>Unknown</td>\n",
       "      <td>0</td>\n",
       "      <td>NaN</td>\n",
       "    </tr>\n",
       "    <tr>\n",
       "      <th>420</th>\n",
       "      <td>10749932644</td>\n",
       "      <td>&lt;p&gt;图贴的多就有道理麽？文心一言都说好用，那真是大便当巧克力吃~~~~&lt;/p&gt;</td>\n",
       "      <td>2023-12-12 07:54:43</td>\n",
       "      <td>上海</td>\n",
       "      <td>Female</td>\n",
       "      <td>3</td>\n",
       "      <td>NaN</td>\n",
       "    </tr>\n",
       "    <tr>\n",
       "      <th>421</th>\n",
       "      <td>10750196814</td>\n",
       "      <td>提示词不会用，用什么大模型都出不了效果，我日常就是用文心一言</td>\n",
       "      <td>2023-12-12 07:56:50</td>\n",
       "      <td>福建</td>\n",
       "      <td>Male</td>\n",
       "      <td>0</td>\n",
       "      <td>10749932644</td>\n",
       "    </tr>\n",
       "    <tr>\n",
       "      <th>422</th>\n",
       "      <td>10753947364</td>\n",
       "      <td>看我主页对文心4.0的数学测试</td>\n",
       "      <td>2023-12-17 02:07:30</td>\n",
       "      <td>河南</td>\n",
       "      <td>Male</td>\n",
       "      <td>0</td>\n",
       "      <td>10749932644</td>\n",
       "    </tr>\n",
       "    <tr>\n",
       "      <th>423</th>\n",
       "      <td>10758933423</td>\n",
       "      <td>文心一言能用python语言编程，也能做PPT，我觉得蛮好用的</td>\n",
       "      <td>2023-12-24 02:15:31</td>\n",
       "      <td>新疆</td>\n",
       "      <td>Unknown</td>\n",
       "      <td>0</td>\n",
       "      <td>10749932644</td>\n",
       "    </tr>\n",
       "  </tbody>\n",
       "</table>\n",
       "<p>424 rows × 7 columns</p>\n",
       "</div>"
      ],
      "text/plain": [
       "              id                                            content  \\\n",
       "0    10695921940  我的建议是有条件就一步到位直接上gpt4，其他的都不用考虑，退而求其次就是new bing ...   \n",
       "1    10696038327                                   Gpt4好，就是要钱太贵[捂脸]   \n",
       "2    10695691786                               找几个朋友一起拼车，分担一下费用会好很多   \n",
       "3    10698881848                                 4要钱，而且要魔法，随时可能账号被封   \n",
       "4    10698899555  要钱不是很正常吗，完全物超所值的呀，不要一堆人瞎用根本不会被封号，我和朋友共用了几个月都没遇...   \n",
       "..           ...                                                ...   \n",
       "419  10755016037                      别尬吹了 你让文心一言画个炒饼就知道谁厉害了 [doge]   \n",
       "420  10749932644           <p>图贴的多就有道理麽？文心一言都说好用，那真是大便当巧克力吃~~~~</p>   \n",
       "421  10750196814                     提示词不会用，用什么大模型都出不了效果，我日常就是用文心一言   \n",
       "422  10753947364                                    看我主页对文心4.0的数学测试   \n",
       "423  10758933423                    文心一言能用python语言编程，也能做PPT，我觉得蛮好用的   \n",
       "\n",
       "                    date  ip   gender  child_comment_count    parent_id  \n",
       "0    2023-10-04 16:59:00  浙江   Female                   40          NaN  \n",
       "1    2023-10-04 17:02:24  福建     Male                    0  10695921940  \n",
       "2    2023-10-04 17:08:50  浙江     Male                    0  10695921940  \n",
       "3    2023-10-08 16:30:50  福建  Unknown                    0  10695921940  \n",
       "4    2023-10-08 16:34:25  浙江     Male                    0  10695921940  \n",
       "..                   ...  ..      ...                  ...          ...  \n",
       "419  2023-12-19 05:35:11  北京  Unknown                    0          NaN  \n",
       "420  2023-12-12 07:54:43  上海   Female                    3          NaN  \n",
       "421  2023-12-12 07:56:50  福建     Male                    0  10749932644  \n",
       "422  2023-12-17 02:07:30  河南     Male                    0  10749932644  \n",
       "423  2023-12-24 02:15:31  新疆  Unknown                    0  10749932644  \n",
       "\n",
       "[424 rows x 7 columns]"
      ]
     },
     "execution_count": 133,
     "metadata": {},
     "output_type": "execute_result"
    }
   ],
   "source": [
    "# 将性别转化为字符串\n",
    "# 将数值转化为文本\n",
    "gender_mapping = {2: 'Male', 1: 'Female'}\n",
    "df['gender'] = df['gender'].map(gender_mapping).fillna('Unknown')\n",
    "df"
   ]
  },
  {
   "cell_type": "code",
   "execution_count": 136,
   "id": "97166e7c-a5f6-43d3-9c7e-c2095f9141ae",
   "metadata": {},
   "outputs": [],
   "source": [
    "df.to_csv('df_clean_0422.csv')"
   ]
  },
  {
   "cell_type": "markdown",
   "id": "0dc78e9e-4151-4bb1-b389-791d5c3022c4",
   "metadata": {
    "jp-MarkdownHeadingCollapsed": true
   },
   "source": [
    "## 数据分析"
   ]
  },
  {
   "cell_type": "code",
   "execution_count": 108,
   "id": "3a8f2661-a15a-4077-af48-49338b80633b",
   "metadata": {},
   "outputs": [
    {
     "data": {
      "text/html": [
       "<div>\n",
       "<style scoped>\n",
       "    .dataframe tbody tr th:only-of-type {\n",
       "        vertical-align: middle;\n",
       "    }\n",
       "\n",
       "    .dataframe tbody tr th {\n",
       "        vertical-align: top;\n",
       "    }\n",
       "\n",
       "    .dataframe thead th {\n",
       "        text-align: right;\n",
       "    }\n",
       "</style>\n",
       "<table border=\"1\" class=\"dataframe\">\n",
       "  <thead>\n",
       "    <tr style=\"text-align: right;\">\n",
       "      <th></th>\n",
       "      <th>id</th>\n",
       "      <th>content</th>\n",
       "      <th>date</th>\n",
       "      <th>ip</th>\n",
       "      <th>gender</th>\n",
       "      <th>child_comment_count</th>\n",
       "      <th>parent_id</th>\n",
       "    </tr>\n",
       "  </thead>\n",
       "  <tbody>\n",
       "    <tr>\n",
       "      <th>0</th>\n",
       "      <td>10695921940</td>\n",
       "      <td>我的建议是有条件就一步到位直接上gpt4，其他的都不用考虑，退而求其次就是new bing ...</td>\n",
       "      <td>2023-10-04 16:59:00</td>\n",
       "      <td>浙江</td>\n",
       "      <td>Female</td>\n",
       "      <td>40</td>\n",
       "      <td>NaN</td>\n",
       "    </tr>\n",
       "    <tr>\n",
       "      <th>1</th>\n",
       "      <td>10696038327</td>\n",
       "      <td>Gpt4好，就是要钱太贵[捂脸]</td>\n",
       "      <td>2023-10-04 17:02:24</td>\n",
       "      <td>福建</td>\n",
       "      <td>Male</td>\n",
       "      <td>0</td>\n",
       "      <td>1.069592e+10</td>\n",
       "    </tr>\n",
       "    <tr>\n",
       "      <th>2</th>\n",
       "      <td>10695691786</td>\n",
       "      <td>找几个朋友一起拼车，分担一下费用会好很多</td>\n",
       "      <td>2023-10-04 17:08:50</td>\n",
       "      <td>浙江</td>\n",
       "      <td>Male</td>\n",
       "      <td>0</td>\n",
       "      <td>1.069592e+10</td>\n",
       "    </tr>\n",
       "    <tr>\n",
       "      <th>3</th>\n",
       "      <td>10698881848</td>\n",
       "      <td>4要钱，而且要魔法，随时可能账号被封</td>\n",
       "      <td>2023-10-08 16:30:50</td>\n",
       "      <td>福建</td>\n",
       "      <td>Unknown</td>\n",
       "      <td>0</td>\n",
       "      <td>1.069592e+10</td>\n",
       "    </tr>\n",
       "    <tr>\n",
       "      <th>4</th>\n",
       "      <td>10698899555</td>\n",
       "      <td>要钱不是很正常吗，完全物超所值的呀，不要一堆人瞎用根本不会被封号，我和朋友共用了几个月都没遇...</td>\n",
       "      <td>2023-10-08 16:34:25</td>\n",
       "      <td>浙江</td>\n",
       "      <td>Male</td>\n",
       "      <td>0</td>\n",
       "      <td>1.069592e+10</td>\n",
       "    </tr>\n",
       "    <tr>\n",
       "      <th>...</th>\n",
       "      <td>...</td>\n",
       "      <td>...</td>\n",
       "      <td>...</td>\n",
       "      <td>...</td>\n",
       "      <td>...</td>\n",
       "      <td>...</td>\n",
       "      <td>...</td>\n",
       "    </tr>\n",
       "    <tr>\n",
       "      <th>419</th>\n",
       "      <td>10755016037</td>\n",
       "      <td>别尬吹了 你让文心一言画个炒饼就知道谁厉害了 [doge]</td>\n",
       "      <td>2023-12-19 05:35:11</td>\n",
       "      <td>北京</td>\n",
       "      <td>Unknown</td>\n",
       "      <td>0</td>\n",
       "      <td>NaN</td>\n",
       "    </tr>\n",
       "    <tr>\n",
       "      <th>420</th>\n",
       "      <td>10749932644</td>\n",
       "      <td>&lt;p&gt;图贴的多就有道理麽？文心一言都说好用，那真是大便当巧克力吃~~~~&lt;/p&gt;</td>\n",
       "      <td>2023-12-12 07:54:43</td>\n",
       "      <td>上海</td>\n",
       "      <td>Female</td>\n",
       "      <td>3</td>\n",
       "      <td>NaN</td>\n",
       "    </tr>\n",
       "    <tr>\n",
       "      <th>421</th>\n",
       "      <td>10750196814</td>\n",
       "      <td>提示词不会用，用什么大模型都出不了效果，我日常就是用文心一言</td>\n",
       "      <td>2023-12-12 07:56:50</td>\n",
       "      <td>福建</td>\n",
       "      <td>Male</td>\n",
       "      <td>0</td>\n",
       "      <td>1.074993e+10</td>\n",
       "    </tr>\n",
       "    <tr>\n",
       "      <th>422</th>\n",
       "      <td>10753947364</td>\n",
       "      <td>看我主页对文心4.0的数学测试</td>\n",
       "      <td>2023-12-17 02:07:30</td>\n",
       "      <td>河南</td>\n",
       "      <td>Male</td>\n",
       "      <td>0</td>\n",
       "      <td>1.074993e+10</td>\n",
       "    </tr>\n",
       "    <tr>\n",
       "      <th>423</th>\n",
       "      <td>10758933423</td>\n",
       "      <td>文心一言能用python语言编程，也能做PPT，我觉得蛮好用的</td>\n",
       "      <td>2023-12-24 02:15:31</td>\n",
       "      <td>新疆</td>\n",
       "      <td>Unknown</td>\n",
       "      <td>0</td>\n",
       "      <td>1.074993e+10</td>\n",
       "    </tr>\n",
       "  </tbody>\n",
       "</table>\n",
       "<p>424 rows × 7 columns</p>\n",
       "</div>"
      ],
      "text/plain": [
       "              id                                            content  \\\n",
       "0    10695921940  我的建议是有条件就一步到位直接上gpt4，其他的都不用考虑，退而求其次就是new bing ...   \n",
       "1    10696038327                                   Gpt4好，就是要钱太贵[捂脸]   \n",
       "2    10695691786                               找几个朋友一起拼车，分担一下费用会好很多   \n",
       "3    10698881848                                 4要钱，而且要魔法，随时可能账号被封   \n",
       "4    10698899555  要钱不是很正常吗，完全物超所值的呀，不要一堆人瞎用根本不会被封号，我和朋友共用了几个月都没遇...   \n",
       "..           ...                                                ...   \n",
       "419  10755016037                      别尬吹了 你让文心一言画个炒饼就知道谁厉害了 [doge]   \n",
       "420  10749932644           <p>图贴的多就有道理麽？文心一言都说好用，那真是大便当巧克力吃~~~~</p>   \n",
       "421  10750196814                     提示词不会用，用什么大模型都出不了效果，我日常就是用文心一言   \n",
       "422  10753947364                                    看我主页对文心4.0的数学测试   \n",
       "423  10758933423                    文心一言能用python语言编程，也能做PPT，我觉得蛮好用的   \n",
       "\n",
       "                    date  ip   gender  child_comment_count     parent_id  \n",
       "0    2023-10-04 16:59:00  浙江   Female                   40           NaN  \n",
       "1    2023-10-04 17:02:24  福建     Male                    0  1.069592e+10  \n",
       "2    2023-10-04 17:08:50  浙江     Male                    0  1.069592e+10  \n",
       "3    2023-10-08 16:30:50  福建  Unknown                    0  1.069592e+10  \n",
       "4    2023-10-08 16:34:25  浙江     Male                    0  1.069592e+10  \n",
       "..                   ...  ..      ...                  ...           ...  \n",
       "419  2023-12-19 05:35:11  北京  Unknown                    0           NaN  \n",
       "420  2023-12-12 07:54:43  上海   Female                    3           NaN  \n",
       "421  2023-12-12 07:56:50  福建     Male                    0  1.074993e+10  \n",
       "422  2023-12-17 02:07:30  河南     Male                    0  1.074993e+10  \n",
       "423  2023-12-24 02:15:31  新疆  Unknown                    0  1.074993e+10  \n",
       "\n",
       "[424 rows x 7 columns]"
      ]
     },
     "execution_count": 108,
     "metadata": {},
     "output_type": "execute_result"
    }
   ],
   "source": [
    "df = pd.read_csv('df_clean_0422.csv')\n",
    "df = df.drop(df.columns[0], axis=1)\n",
    "df"
   ]
  },
  {
   "cell_type": "markdown",
   "id": "acdb8c6d-bf85-4eba-9726-34b6a5982f20",
   "metadata": {},
   "source": [
    "### 数据清理\n",
    "中文数据清理一般包括去除特殊字符，数字，标点符号，HTML标签，停用词。本项目中数字可能代表产品版本，而英文则可能是指代软件工具，所以清理重点在HTML标签和特殊字符，标点符号以及停用词。"
   ]
  },
  {
   "cell_type": "code",
   "execution_count": 109,
   "id": "dac109e6-a04b-4077-8bdc-45afec79e1ca",
   "metadata": {},
   "outputs": [
    {
     "name": "stdout",
     "output_type": "stream",
     "text": [
      "缺失值的数量: 0\n"
     ]
    }
   ],
   "source": [
    "# 计算包含缺失值的行数\n",
    "missing_count = df[\"content\"].isna().sum()\n",
    "# 显示结果\n",
    "print(\"缺失值的数量:\", missing_count)"
   ]
  },
  {
   "cell_type": "code",
   "execution_count": 105,
   "id": "aac5c3f3-c4ba-4f30-ad4a-6c5c4c9096f3",
   "metadata": {},
   "outputs": [],
   "source": [
    "def load_stopwords(file_path):\n",
    "    with open(file_path, 'r', encoding='gbk') as file:\n",
    "        stopwords = [line.strip() for line in file]\n",
    "    return stopwords\n",
    "\n",
    "def clean_text(text, stopwords):\n",
    "    # 去除HTML标签\n",
    "    cleaned_text = re.sub(r'<[^>]+>', ' ', text)\n",
    "    # 去除特殊字符和标点符号\n",
    "    cleaned_text = re.sub(r'[^\\u4e00-\\u9fa5a-zA-Z0-9\\s]', ' ', cleaned_text)\n",
    "    # 去除多余的空白字符\n",
    "    cleaned_text = re.sub(r'\\s+', ' ', cleaned_text)\n",
    "    # 去除停用词\n",
    "    cleaned_text = ' '.join(word for word in jieba.lcut(cleaned_text) if word not in stopwords)\n",
    "    return cleaned_text.strip()  # 去除文本两端的空格\n",
    "\n",
    "# 读取停用词文件\n",
    "stopwords_file = \"wenxinyiyan/百度停用词列表.txt\"\n",
    "stopwords = load_stopwords(stopwords_file)"
   ]
  },
  {
   "cell_type": "code",
   "execution_count": 110,
   "id": "d2b8cd0b-b3e3-414e-9ff9-dfe88db2e5bb",
   "metadata": {},
   "outputs": [
    {
     "data": {
      "text/html": [
       "<div>\n",
       "<style scoped>\n",
       "    .dataframe tbody tr th:only-of-type {\n",
       "        vertical-align: middle;\n",
       "    }\n",
       "\n",
       "    .dataframe tbody tr th {\n",
       "        vertical-align: top;\n",
       "    }\n",
       "\n",
       "    .dataframe thead th {\n",
       "        text-align: right;\n",
       "    }\n",
       "</style>\n",
       "<table border=\"1\" class=\"dataframe\">\n",
       "  <thead>\n",
       "    <tr style=\"text-align: right;\">\n",
       "      <th></th>\n",
       "      <th>id</th>\n",
       "      <th>date</th>\n",
       "      <th>ip</th>\n",
       "      <th>gender</th>\n",
       "      <th>child_comment_count</th>\n",
       "      <th>parent_id</th>\n",
       "      <th>clean_content</th>\n",
       "    </tr>\n",
       "  </thead>\n",
       "  <tbody>\n",
       "    <tr>\n",
       "      <th>0</th>\n",
       "      <td>10695921940</td>\n",
       "      <td>2023-10-04 16:59:00</td>\n",
       "      <td>浙江</td>\n",
       "      <td>Female</td>\n",
       "      <td>40</td>\n",
       "      <td>NaN</td>\n",
       "      <td>建议 条件 一步到位 上 gpt4   都 不用   退而求其次   bing   clau...</td>\n",
       "    </tr>\n",
       "    <tr>\n",
       "      <th>1</th>\n",
       "      <td>10696038327</td>\n",
       "      <td>2023-10-04 17:02:24</td>\n",
       "      <td>福建</td>\n",
       "      <td>Male</td>\n",
       "      <td>0</td>\n",
       "      <td>1.069592e+10</td>\n",
       "      <td>Gpt4 好   要钱 太贵   捂脸</td>\n",
       "    </tr>\n",
       "    <tr>\n",
       "      <th>2</th>\n",
       "      <td>10695691786</td>\n",
       "      <td>2023-10-04 17:08:50</td>\n",
       "      <td>浙江</td>\n",
       "      <td>Male</td>\n",
       "      <td>0</td>\n",
       "      <td>1.069592e+10</td>\n",
       "      <td>找 几个 朋友 拼车   分担 费用 会 好 很多</td>\n",
       "    </tr>\n",
       "    <tr>\n",
       "      <th>3</th>\n",
       "      <td>10698881848</td>\n",
       "      <td>2023-10-08 16:30:50</td>\n",
       "      <td>福建</td>\n",
       "      <td>Unknown</td>\n",
       "      <td>0</td>\n",
       "      <td>1.069592e+10</td>\n",
       "      <td>4 要钱   魔法   随时 账号 封</td>\n",
       "    </tr>\n",
       "    <tr>\n",
       "      <th>4</th>\n",
       "      <td>10698899555</td>\n",
       "      <td>2023-10-08 16:34:25</td>\n",
       "      <td>浙江</td>\n",
       "      <td>Male</td>\n",
       "      <td>0</td>\n",
       "      <td>1.069592e+10</td>\n",
       "      <td>要钱 很   物超所值   一堆 人瞎用 封号   朋友 共用 几个 月 都 没</td>\n",
       "    </tr>\n",
       "    <tr>\n",
       "      <th>...</th>\n",
       "      <td>...</td>\n",
       "      <td>...</td>\n",
       "      <td>...</td>\n",
       "      <td>...</td>\n",
       "      <td>...</td>\n",
       "      <td>...</td>\n",
       "      <td>...</td>\n",
       "    </tr>\n",
       "    <tr>\n",
       "      <th>419</th>\n",
       "      <td>10755016037</td>\n",
       "      <td>2023-12-19 05:35:11</td>\n",
       "      <td>北京</td>\n",
       "      <td>Unknown</td>\n",
       "      <td>0</td>\n",
       "      <td>NaN</td>\n",
       "      <td>别尬 吹   文心 一言画 炒 饼 厉害   doge</td>\n",
       "    </tr>\n",
       "    <tr>\n",
       "      <th>420</th>\n",
       "      <td>10749932644</td>\n",
       "      <td>2023-12-12 07:54:43</td>\n",
       "      <td>上海</td>\n",
       "      <td>Female</td>\n",
       "      <td>3</td>\n",
       "      <td>NaN</td>\n",
       "      <td>图贴 道理 麽   文心 一言 都 说好   大 便当 巧克力 吃</td>\n",
       "    </tr>\n",
       "    <tr>\n",
       "      <th>421</th>\n",
       "      <td>10750196814</td>\n",
       "      <td>2023-12-12 07:56:50</td>\n",
       "      <td>福建</td>\n",
       "      <td>Male</td>\n",
       "      <td>0</td>\n",
       "      <td>1.074993e+10</td>\n",
       "      <td>提示 词   大 模型 都 出 不了 效果   日常 文心 言</td>\n",
       "    </tr>\n",
       "    <tr>\n",
       "      <th>422</th>\n",
       "      <td>10753947364</td>\n",
       "      <td>2023-12-17 02:07:30</td>\n",
       "      <td>河南</td>\n",
       "      <td>Male</td>\n",
       "      <td>0</td>\n",
       "      <td>1.074993e+10</td>\n",
       "      <td>看 主页 文心 4   0 数学 测试</td>\n",
       "    </tr>\n",
       "    <tr>\n",
       "      <th>423</th>\n",
       "      <td>10758933423</td>\n",
       "      <td>2023-12-24 02:15:31</td>\n",
       "      <td>新疆</td>\n",
       "      <td>Unknown</td>\n",
       "      <td>0</td>\n",
       "      <td>1.074993e+10</td>\n",
       "      <td>文心 一言能 python 语言 编程   做 PPT   蛮 好</td>\n",
       "    </tr>\n",
       "  </tbody>\n",
       "</table>\n",
       "<p>424 rows × 7 columns</p>\n",
       "</div>"
      ],
      "text/plain": [
       "              id                 date  ip   gender  child_comment_count  \\\n",
       "0    10695921940  2023-10-04 16:59:00  浙江   Female                   40   \n",
       "1    10696038327  2023-10-04 17:02:24  福建     Male                    0   \n",
       "2    10695691786  2023-10-04 17:08:50  浙江     Male                    0   \n",
       "3    10698881848  2023-10-08 16:30:50  福建  Unknown                    0   \n",
       "4    10698899555  2023-10-08 16:34:25  浙江     Male                    0   \n",
       "..           ...                  ...  ..      ...                  ...   \n",
       "419  10755016037  2023-12-19 05:35:11  北京  Unknown                    0   \n",
       "420  10749932644  2023-12-12 07:54:43  上海   Female                    3   \n",
       "421  10750196814  2023-12-12 07:56:50  福建     Male                    0   \n",
       "422  10753947364  2023-12-17 02:07:30  河南     Male                    0   \n",
       "423  10758933423  2023-12-24 02:15:31  新疆  Unknown                    0   \n",
       "\n",
       "        parent_id                                      clean_content  \n",
       "0             NaN  建议 条件 一步到位 上 gpt4   都 不用   退而求其次   bing   clau...  \n",
       "1    1.069592e+10                                Gpt4 好   要钱 太贵   捂脸  \n",
       "2    1.069592e+10                          找 几个 朋友 拼车   分担 费用 会 好 很多  \n",
       "3    1.069592e+10                                4 要钱   魔法   随时 账号 封  \n",
       "4    1.069592e+10           要钱 很   物超所值   一堆 人瞎用 封号   朋友 共用 几个 月 都 没  \n",
       "..            ...                                                ...  \n",
       "419           NaN                        别尬 吹   文心 一言画 炒 饼 厉害   doge  \n",
       "420           NaN                  图贴 道理 麽   文心 一言 都 说好   大 便当 巧克力 吃  \n",
       "421  1.074993e+10                    提示 词   大 模型 都 出 不了 效果   日常 文心 言  \n",
       "422  1.074993e+10                                看 主页 文心 4   0 数学 测试  \n",
       "423  1.074993e+10                  文心 一言能 python 语言 编程   做 PPT   蛮 好  \n",
       "\n",
       "[424 rows x 7 columns]"
      ]
     },
     "execution_count": 110,
     "metadata": {},
     "output_type": "execute_result"
    }
   ],
   "source": [
    "# 将function应用到content列上\n",
    "df[\"clean_content\"] = df[\"content\"].apply(lambda x: clean_text(x, stopwords))\n",
    "# 删掉原来的content列\n",
    "df.drop(columns=[\"content\"], inplace=True)\n",
    "df"
   ]
  },
  {
   "cell_type": "markdown",
   "id": "816443a9-6b8f-4284-af09-09518ad23d32",
   "metadata": {},
   "source": [
    "文本中的英文也处理为小写"
   ]
  },
  {
   "cell_type": "code",
   "execution_count": 111,
   "id": "d06bb14b-3c44-4762-be2d-12a6d5c88c96",
   "metadata": {},
   "outputs": [
    {
     "data": {
      "text/html": [
       "<div>\n",
       "<style scoped>\n",
       "    .dataframe tbody tr th:only-of-type {\n",
       "        vertical-align: middle;\n",
       "    }\n",
       "\n",
       "    .dataframe tbody tr th {\n",
       "        vertical-align: top;\n",
       "    }\n",
       "\n",
       "    .dataframe thead th {\n",
       "        text-align: right;\n",
       "    }\n",
       "</style>\n",
       "<table border=\"1\" class=\"dataframe\">\n",
       "  <thead>\n",
       "    <tr style=\"text-align: right;\">\n",
       "      <th></th>\n",
       "      <th>id</th>\n",
       "      <th>date</th>\n",
       "      <th>ip</th>\n",
       "      <th>gender</th>\n",
       "      <th>child_comment_count</th>\n",
       "      <th>parent_id</th>\n",
       "      <th>text</th>\n",
       "    </tr>\n",
       "  </thead>\n",
       "  <tbody>\n",
       "    <tr>\n",
       "      <th>0</th>\n",
       "      <td>10695921940</td>\n",
       "      <td>2023-10-04 16:59:00</td>\n",
       "      <td>浙江</td>\n",
       "      <td>Female</td>\n",
       "      <td>40</td>\n",
       "      <td>NaN</td>\n",
       "      <td>建议 条件 一步到位 上 gpt4   都 不用   退而求其次   bing   clau...</td>\n",
       "    </tr>\n",
       "    <tr>\n",
       "      <th>1</th>\n",
       "      <td>10696038327</td>\n",
       "      <td>2023-10-04 17:02:24</td>\n",
       "      <td>福建</td>\n",
       "      <td>Male</td>\n",
       "      <td>0</td>\n",
       "      <td>1.069592e+10</td>\n",
       "      <td>gpt4 好   要钱 太贵   捂脸</td>\n",
       "    </tr>\n",
       "    <tr>\n",
       "      <th>2</th>\n",
       "      <td>10695691786</td>\n",
       "      <td>2023-10-04 17:08:50</td>\n",
       "      <td>浙江</td>\n",
       "      <td>Male</td>\n",
       "      <td>0</td>\n",
       "      <td>1.069592e+10</td>\n",
       "      <td>找 几个 朋友 拼车   分担 费用 会 好 很多</td>\n",
       "    </tr>\n",
       "    <tr>\n",
       "      <th>3</th>\n",
       "      <td>10698881848</td>\n",
       "      <td>2023-10-08 16:30:50</td>\n",
       "      <td>福建</td>\n",
       "      <td>Unknown</td>\n",
       "      <td>0</td>\n",
       "      <td>1.069592e+10</td>\n",
       "      <td>4 要钱   魔法   随时 账号 封</td>\n",
       "    </tr>\n",
       "    <tr>\n",
       "      <th>4</th>\n",
       "      <td>10698899555</td>\n",
       "      <td>2023-10-08 16:34:25</td>\n",
       "      <td>浙江</td>\n",
       "      <td>Male</td>\n",
       "      <td>0</td>\n",
       "      <td>1.069592e+10</td>\n",
       "      <td>要钱 很   物超所值   一堆 人瞎用 封号   朋友 共用 几个 月 都 没</td>\n",
       "    </tr>\n",
       "    <tr>\n",
       "      <th>...</th>\n",
       "      <td>...</td>\n",
       "      <td>...</td>\n",
       "      <td>...</td>\n",
       "      <td>...</td>\n",
       "      <td>...</td>\n",
       "      <td>...</td>\n",
       "      <td>...</td>\n",
       "    </tr>\n",
       "    <tr>\n",
       "      <th>419</th>\n",
       "      <td>10755016037</td>\n",
       "      <td>2023-12-19 05:35:11</td>\n",
       "      <td>北京</td>\n",
       "      <td>Unknown</td>\n",
       "      <td>0</td>\n",
       "      <td>NaN</td>\n",
       "      <td>别尬 吹   文心 一言画 炒 饼 厉害   doge</td>\n",
       "    </tr>\n",
       "    <tr>\n",
       "      <th>420</th>\n",
       "      <td>10749932644</td>\n",
       "      <td>2023-12-12 07:54:43</td>\n",
       "      <td>上海</td>\n",
       "      <td>Female</td>\n",
       "      <td>3</td>\n",
       "      <td>NaN</td>\n",
       "      <td>图贴 道理 麽   文心 一言 都 说好   大 便当 巧克力 吃</td>\n",
       "    </tr>\n",
       "    <tr>\n",
       "      <th>421</th>\n",
       "      <td>10750196814</td>\n",
       "      <td>2023-12-12 07:56:50</td>\n",
       "      <td>福建</td>\n",
       "      <td>Male</td>\n",
       "      <td>0</td>\n",
       "      <td>1.074993e+10</td>\n",
       "      <td>提示 词   大 模型 都 出 不了 效果   日常 文心 言</td>\n",
       "    </tr>\n",
       "    <tr>\n",
       "      <th>422</th>\n",
       "      <td>10753947364</td>\n",
       "      <td>2023-12-17 02:07:30</td>\n",
       "      <td>河南</td>\n",
       "      <td>Male</td>\n",
       "      <td>0</td>\n",
       "      <td>1.074993e+10</td>\n",
       "      <td>看 主页 文心 4   0 数学 测试</td>\n",
       "    </tr>\n",
       "    <tr>\n",
       "      <th>423</th>\n",
       "      <td>10758933423</td>\n",
       "      <td>2023-12-24 02:15:31</td>\n",
       "      <td>新疆</td>\n",
       "      <td>Unknown</td>\n",
       "      <td>0</td>\n",
       "      <td>1.074993e+10</td>\n",
       "      <td>文心 一言能 python 语言 编程   做 ppt   蛮 好</td>\n",
       "    </tr>\n",
       "  </tbody>\n",
       "</table>\n",
       "<p>424 rows × 7 columns</p>\n",
       "</div>"
      ],
      "text/plain": [
       "              id                 date  ip   gender  child_comment_count  \\\n",
       "0    10695921940  2023-10-04 16:59:00  浙江   Female                   40   \n",
       "1    10696038327  2023-10-04 17:02:24  福建     Male                    0   \n",
       "2    10695691786  2023-10-04 17:08:50  浙江     Male                    0   \n",
       "3    10698881848  2023-10-08 16:30:50  福建  Unknown                    0   \n",
       "4    10698899555  2023-10-08 16:34:25  浙江     Male                    0   \n",
       "..           ...                  ...  ..      ...                  ...   \n",
       "419  10755016037  2023-12-19 05:35:11  北京  Unknown                    0   \n",
       "420  10749932644  2023-12-12 07:54:43  上海   Female                    3   \n",
       "421  10750196814  2023-12-12 07:56:50  福建     Male                    0   \n",
       "422  10753947364  2023-12-17 02:07:30  河南     Male                    0   \n",
       "423  10758933423  2023-12-24 02:15:31  新疆  Unknown                    0   \n",
       "\n",
       "        parent_id                                               text  \n",
       "0             NaN  建议 条件 一步到位 上 gpt4   都 不用   退而求其次   bing   clau...  \n",
       "1    1.069592e+10                                gpt4 好   要钱 太贵   捂脸  \n",
       "2    1.069592e+10                          找 几个 朋友 拼车   分担 费用 会 好 很多  \n",
       "3    1.069592e+10                                4 要钱   魔法   随时 账号 封  \n",
       "4    1.069592e+10           要钱 很   物超所值   一堆 人瞎用 封号   朋友 共用 几个 月 都 没  \n",
       "..            ...                                                ...  \n",
       "419           NaN                        别尬 吹   文心 一言画 炒 饼 厉害   doge  \n",
       "420           NaN                  图贴 道理 麽   文心 一言 都 说好   大 便当 巧克力 吃  \n",
       "421  1.074993e+10                    提示 词   大 模型 都 出 不了 效果   日常 文心 言  \n",
       "422  1.074993e+10                                看 主页 文心 4   0 数学 测试  \n",
       "423  1.074993e+10                  文心 一言能 python 语言 编程   做 ppt   蛮 好  \n",
       "\n",
       "[424 rows x 7 columns]"
      ]
     },
     "execution_count": 111,
     "metadata": {},
     "output_type": "execute_result"
    }
   ],
   "source": [
    "# 将英文文本转换为小写，同时保持中文文本不变\n",
    "def convert_english_to_lowercase(text):\n",
    "    # 正则表达式匹配英文单词\n",
    "    pattern = re.compile(r'[a-zA-Z]+')\n",
    "    # 使用 re.sub() 函数和 lambda 函数将小写转换应用于英文单词\n",
    "    return pattern.sub(lambda x: x.group(0).lower(), text)\n",
    "# 应用于 \"clean_content\" 列\n",
    "df[\"text\"] = df[\"clean_content\"].apply(convert_english_to_lowercase)\n",
    "# 删除原始的 \"clean_content\" 列\n",
    "df.drop(columns=[\"clean_content\"], inplace=True)\n",
    "df"
   ]
  },
  {
   "cell_type": "code",
   "execution_count": 112,
   "id": "182fdb0a-ff3e-4f66-85dd-21b514eeec6c",
   "metadata": {},
   "outputs": [],
   "source": [
    "df.to_csv('df_clean_stopwords_0424.csv')"
   ]
  },
  {
   "cell_type": "markdown",
   "id": "378fd449-bd1f-47ae-afa0-a11cafa0ec3e",
   "metadata": {},
   "source": [
    "### 情感分析"
   ]
  },
  {
   "cell_type": "code",
   "execution_count": 113,
   "id": "873e2946-6b88-488d-b080-44cdb3b29619",
   "metadata": {},
   "outputs": [],
   "source": [
    "df = pd.read_csv('df_clean_stopwords_0424.csv')"
   ]
  },
  {
   "cell_type": "code",
   "execution_count": 116,
   "id": "cbe4e968-9cbf-4a49-b735-48006b61b425",
   "metadata": {},
   "outputs": [
    {
     "data": {
      "text/html": [
       "<div>\n",
       "<style scoped>\n",
       "    .dataframe tbody tr th:only-of-type {\n",
       "        vertical-align: middle;\n",
       "    }\n",
       "\n",
       "    .dataframe tbody tr th {\n",
       "        vertical-align: top;\n",
       "    }\n",
       "\n",
       "    .dataframe thead th {\n",
       "        text-align: right;\n",
       "    }\n",
       "</style>\n",
       "<table border=\"1\" class=\"dataframe\">\n",
       "  <thead>\n",
       "    <tr style=\"text-align: right;\">\n",
       "      <th></th>\n",
       "      <th>Unnamed: 0</th>\n",
       "      <th>id</th>\n",
       "      <th>date</th>\n",
       "      <th>ip</th>\n",
       "      <th>gender</th>\n",
       "      <th>child_comment_count</th>\n",
       "      <th>parent_id</th>\n",
       "      <th>text</th>\n",
       "    </tr>\n",
       "  </thead>\n",
       "  <tbody>\n",
       "    <tr>\n",
       "      <th>0</th>\n",
       "      <td>0</td>\n",
       "      <td>10695921940</td>\n",
       "      <td>2023-10-04 16:59:00</td>\n",
       "      <td>浙江</td>\n",
       "      <td>Female</td>\n",
       "      <td>40</td>\n",
       "      <td>NaN</td>\n",
       "      <td>建议 条件 一步到位 上 gpt4   都 不用   退而求其次   bing   clau...</td>\n",
       "    </tr>\n",
       "    <tr>\n",
       "      <th>1</th>\n",
       "      <td>1</td>\n",
       "      <td>10696038327</td>\n",
       "      <td>2023-10-04 17:02:24</td>\n",
       "      <td>福建</td>\n",
       "      <td>Male</td>\n",
       "      <td>0</td>\n",
       "      <td>1.069592e+10</td>\n",
       "      <td>gpt4 好   要钱 太贵   捂脸</td>\n",
       "    </tr>\n",
       "    <tr>\n",
       "      <th>2</th>\n",
       "      <td>2</td>\n",
       "      <td>10695691786</td>\n",
       "      <td>2023-10-04 17:08:50</td>\n",
       "      <td>浙江</td>\n",
       "      <td>Male</td>\n",
       "      <td>0</td>\n",
       "      <td>1.069592e+10</td>\n",
       "      <td>找 几个 朋友 拼车   分担 费用 会 好 很多</td>\n",
       "    </tr>\n",
       "    <tr>\n",
       "      <th>3</th>\n",
       "      <td>3</td>\n",
       "      <td>10698881848</td>\n",
       "      <td>2023-10-08 16:30:50</td>\n",
       "      <td>福建</td>\n",
       "      <td>Unknown</td>\n",
       "      <td>0</td>\n",
       "      <td>1.069592e+10</td>\n",
       "      <td>4 要钱   魔法   随时 账号 封</td>\n",
       "    </tr>\n",
       "    <tr>\n",
       "      <th>4</th>\n",
       "      <td>4</td>\n",
       "      <td>10698899555</td>\n",
       "      <td>2023-10-08 16:34:25</td>\n",
       "      <td>浙江</td>\n",
       "      <td>Male</td>\n",
       "      <td>0</td>\n",
       "      <td>1.069592e+10</td>\n",
       "      <td>要钱 很   物超所值   一堆 人瞎用 封号   朋友 共用 几个 月 都 没</td>\n",
       "    </tr>\n",
       "    <tr>\n",
       "      <th>...</th>\n",
       "      <td>...</td>\n",
       "      <td>...</td>\n",
       "      <td>...</td>\n",
       "      <td>...</td>\n",
       "      <td>...</td>\n",
       "      <td>...</td>\n",
       "      <td>...</td>\n",
       "      <td>...</td>\n",
       "    </tr>\n",
       "    <tr>\n",
       "      <th>419</th>\n",
       "      <td>419</td>\n",
       "      <td>10755016037</td>\n",
       "      <td>2023-12-19 05:35:11</td>\n",
       "      <td>北京</td>\n",
       "      <td>Unknown</td>\n",
       "      <td>0</td>\n",
       "      <td>NaN</td>\n",
       "      <td>别尬 吹   文心 一言画 炒 饼 厉害   doge</td>\n",
       "    </tr>\n",
       "    <tr>\n",
       "      <th>420</th>\n",
       "      <td>420</td>\n",
       "      <td>10749932644</td>\n",
       "      <td>2023-12-12 07:54:43</td>\n",
       "      <td>上海</td>\n",
       "      <td>Female</td>\n",
       "      <td>3</td>\n",
       "      <td>NaN</td>\n",
       "      <td>图贴 道理 麽   文心 一言 都 说好   大 便当 巧克力 吃</td>\n",
       "    </tr>\n",
       "    <tr>\n",
       "      <th>421</th>\n",
       "      <td>421</td>\n",
       "      <td>10750196814</td>\n",
       "      <td>2023-12-12 07:56:50</td>\n",
       "      <td>福建</td>\n",
       "      <td>Male</td>\n",
       "      <td>0</td>\n",
       "      <td>1.074993e+10</td>\n",
       "      <td>提示 词   大 模型 都 出 不了 效果   日常 文心 言</td>\n",
       "    </tr>\n",
       "    <tr>\n",
       "      <th>422</th>\n",
       "      <td>422</td>\n",
       "      <td>10753947364</td>\n",
       "      <td>2023-12-17 02:07:30</td>\n",
       "      <td>河南</td>\n",
       "      <td>Male</td>\n",
       "      <td>0</td>\n",
       "      <td>1.074993e+10</td>\n",
       "      <td>看 主页 文心 4   0 数学 测试</td>\n",
       "    </tr>\n",
       "    <tr>\n",
       "      <th>423</th>\n",
       "      <td>423</td>\n",
       "      <td>10758933423</td>\n",
       "      <td>2023-12-24 02:15:31</td>\n",
       "      <td>新疆</td>\n",
       "      <td>Unknown</td>\n",
       "      <td>0</td>\n",
       "      <td>1.074993e+10</td>\n",
       "      <td>文心 一言能 python 语言 编程   做 ppt   蛮 好</td>\n",
       "    </tr>\n",
       "  </tbody>\n",
       "</table>\n",
       "<p>424 rows × 8 columns</p>\n",
       "</div>"
      ],
      "text/plain": [
       "     Unnamed: 0           id                 date  ip   gender  \\\n",
       "0             0  10695921940  2023-10-04 16:59:00  浙江   Female   \n",
       "1             1  10696038327  2023-10-04 17:02:24  福建     Male   \n",
       "2             2  10695691786  2023-10-04 17:08:50  浙江     Male   \n",
       "3             3  10698881848  2023-10-08 16:30:50  福建  Unknown   \n",
       "4             4  10698899555  2023-10-08 16:34:25  浙江     Male   \n",
       "..          ...          ...                  ...  ..      ...   \n",
       "419         419  10755016037  2023-12-19 05:35:11  北京  Unknown   \n",
       "420         420  10749932644  2023-12-12 07:54:43  上海   Female   \n",
       "421         421  10750196814  2023-12-12 07:56:50  福建     Male   \n",
       "422         422  10753947364  2023-12-17 02:07:30  河南     Male   \n",
       "423         423  10758933423  2023-12-24 02:15:31  新疆  Unknown   \n",
       "\n",
       "     child_comment_count     parent_id  \\\n",
       "0                     40           NaN   \n",
       "1                      0  1.069592e+10   \n",
       "2                      0  1.069592e+10   \n",
       "3                      0  1.069592e+10   \n",
       "4                      0  1.069592e+10   \n",
       "..                   ...           ...   \n",
       "419                    0           NaN   \n",
       "420                    3           NaN   \n",
       "421                    0  1.074993e+10   \n",
       "422                    0  1.074993e+10   \n",
       "423                    0  1.074993e+10   \n",
       "\n",
       "                                                  text  \n",
       "0    建议 条件 一步到位 上 gpt4   都 不用   退而求其次   bing   clau...  \n",
       "1                                  gpt4 好   要钱 太贵   捂脸  \n",
       "2                            找 几个 朋友 拼车   分担 费用 会 好 很多  \n",
       "3                                  4 要钱   魔法   随时 账号 封  \n",
       "4             要钱 很   物超所值   一堆 人瞎用 封号   朋友 共用 几个 月 都 没  \n",
       "..                                                 ...  \n",
       "419                        别尬 吹   文心 一言画 炒 饼 厉害   doge  \n",
       "420                  图贴 道理 麽   文心 一言 都 说好   大 便当 巧克力 吃  \n",
       "421                    提示 词   大 模型 都 出 不了 效果   日常 文心 言  \n",
       "422                                看 主页 文心 4   0 数学 测试  \n",
       "423                  文心 一言能 python 语言 编程   做 ppt   蛮 好  \n",
       "\n",
       "[424 rows x 8 columns]"
      ]
     },
     "execution_count": 116,
     "metadata": {},
     "output_type": "execute_result"
    }
   ],
   "source": [
    "df"
   ]
  },
  {
   "cell_type": "markdown",
   "id": "dfeb2208-dd6c-4407-9255-262232149eee",
   "metadata": {},
   "source": [
    "#### Snownlp"
   ]
  },
  {
   "cell_type": "code",
   "execution_count": 114,
   "id": "a424b0f2-52cd-4e4d-b078-efab95604933",
   "metadata": {},
   "outputs": [],
   "source": [
    "from snownlp import SnowNLP"
   ]
  },
  {
   "cell_type": "code",
   "execution_count": 117,
   "id": "10c88f6b-51ea-4e84-ac9a-c58d40c891d3",
   "metadata": {},
   "outputs": [
    {
     "data": {
      "text/html": [
       "<div>\n",
       "<style scoped>\n",
       "    .dataframe tbody tr th:only-of-type {\n",
       "        vertical-align: middle;\n",
       "    }\n",
       "\n",
       "    .dataframe tbody tr th {\n",
       "        vertical-align: top;\n",
       "    }\n",
       "\n",
       "    .dataframe thead th {\n",
       "        text-align: right;\n",
       "    }\n",
       "</style>\n",
       "<table border=\"1\" class=\"dataframe\">\n",
       "  <thead>\n",
       "    <tr style=\"text-align: right;\">\n",
       "      <th></th>\n",
       "      <th>Unnamed: 0</th>\n",
       "      <th>id</th>\n",
       "      <th>date</th>\n",
       "      <th>ip</th>\n",
       "      <th>gender</th>\n",
       "      <th>child_comment_count</th>\n",
       "      <th>parent_id</th>\n",
       "      <th>text</th>\n",
       "      <th>sentiment</th>\n",
       "    </tr>\n",
       "  </thead>\n",
       "  <tbody>\n",
       "    <tr>\n",
       "      <th>0</th>\n",
       "      <td>0</td>\n",
       "      <td>10695921940</td>\n",
       "      <td>2023-10-04 16:59:00</td>\n",
       "      <td>浙江</td>\n",
       "      <td>Female</td>\n",
       "      <td>40</td>\n",
       "      <td>NaN</td>\n",
       "      <td>建议 条件 一步到位 上 gpt4   都 不用   退而求其次   bing   clau...</td>\n",
       "      <td>0.007502</td>\n",
       "    </tr>\n",
       "    <tr>\n",
       "      <th>1</th>\n",
       "      <td>1</td>\n",
       "      <td>10696038327</td>\n",
       "      <td>2023-10-04 17:02:24</td>\n",
       "      <td>福建</td>\n",
       "      <td>Male</td>\n",
       "      <td>0</td>\n",
       "      <td>1.069592e+10</td>\n",
       "      <td>gpt4 好   要钱 太贵   捂脸</td>\n",
       "      <td>0.011116</td>\n",
       "    </tr>\n",
       "    <tr>\n",
       "      <th>2</th>\n",
       "      <td>2</td>\n",
       "      <td>10695691786</td>\n",
       "      <td>2023-10-04 17:08:50</td>\n",
       "      <td>浙江</td>\n",
       "      <td>Male</td>\n",
       "      <td>0</td>\n",
       "      <td>1.069592e+10</td>\n",
       "      <td>找 几个 朋友 拼车   分担 费用 会 好 很多</td>\n",
       "      <td>0.642283</td>\n",
       "    </tr>\n",
       "    <tr>\n",
       "      <th>3</th>\n",
       "      <td>3</td>\n",
       "      <td>10698881848</td>\n",
       "      <td>2023-10-08 16:30:50</td>\n",
       "      <td>福建</td>\n",
       "      <td>Unknown</td>\n",
       "      <td>0</td>\n",
       "      <td>1.069592e+10</td>\n",
       "      <td>4 要钱   魔法   随时 账号 封</td>\n",
       "      <td>0.842227</td>\n",
       "    </tr>\n",
       "    <tr>\n",
       "      <th>4</th>\n",
       "      <td>4</td>\n",
       "      <td>10698899555</td>\n",
       "      <td>2023-10-08 16:34:25</td>\n",
       "      <td>浙江</td>\n",
       "      <td>Male</td>\n",
       "      <td>0</td>\n",
       "      <td>1.069592e+10</td>\n",
       "      <td>要钱 很   物超所值   一堆 人瞎用 封号   朋友 共用 几个 月 都 没</td>\n",
       "      <td>0.730268</td>\n",
       "    </tr>\n",
       "    <tr>\n",
       "      <th>...</th>\n",
       "      <td>...</td>\n",
       "      <td>...</td>\n",
       "      <td>...</td>\n",
       "      <td>...</td>\n",
       "      <td>...</td>\n",
       "      <td>...</td>\n",
       "      <td>...</td>\n",
       "      <td>...</td>\n",
       "      <td>...</td>\n",
       "    </tr>\n",
       "    <tr>\n",
       "      <th>419</th>\n",
       "      <td>419</td>\n",
       "      <td>10755016037</td>\n",
       "      <td>2023-12-19 05:35:11</td>\n",
       "      <td>北京</td>\n",
       "      <td>Unknown</td>\n",
       "      <td>0</td>\n",
       "      <td>NaN</td>\n",
       "      <td>别尬 吹   文心 一言画 炒 饼 厉害   doge</td>\n",
       "      <td>0.258900</td>\n",
       "    </tr>\n",
       "    <tr>\n",
       "      <th>420</th>\n",
       "      <td>420</td>\n",
       "      <td>10749932644</td>\n",
       "      <td>2023-12-12 07:54:43</td>\n",
       "      <td>上海</td>\n",
       "      <td>Female</td>\n",
       "      <td>3</td>\n",
       "      <td>NaN</td>\n",
       "      <td>图贴 道理 麽   文心 一言 都 说好   大 便当 巧克力 吃</td>\n",
       "      <td>0.880308</td>\n",
       "    </tr>\n",
       "    <tr>\n",
       "      <th>421</th>\n",
       "      <td>421</td>\n",
       "      <td>10750196814</td>\n",
       "      <td>2023-12-12 07:56:50</td>\n",
       "      <td>福建</td>\n",
       "      <td>Male</td>\n",
       "      <td>0</td>\n",
       "      <td>1.074993e+10</td>\n",
       "      <td>提示 词   大 模型 都 出 不了 效果   日常 文心 言</td>\n",
       "      <td>0.985755</td>\n",
       "    </tr>\n",
       "    <tr>\n",
       "      <th>422</th>\n",
       "      <td>422</td>\n",
       "      <td>10753947364</td>\n",
       "      <td>2023-12-17 02:07:30</td>\n",
       "      <td>河南</td>\n",
       "      <td>Male</td>\n",
       "      <td>0</td>\n",
       "      <td>1.074993e+10</td>\n",
       "      <td>看 主页 文心 4   0 数学 测试</td>\n",
       "      <td>0.236901</td>\n",
       "    </tr>\n",
       "    <tr>\n",
       "      <th>423</th>\n",
       "      <td>423</td>\n",
       "      <td>10758933423</td>\n",
       "      <td>2023-12-24 02:15:31</td>\n",
       "      <td>新疆</td>\n",
       "      <td>Unknown</td>\n",
       "      <td>0</td>\n",
       "      <td>1.074993e+10</td>\n",
       "      <td>文心 一言能 python 语言 编程   做 ppt   蛮 好</td>\n",
       "      <td>0.986844</td>\n",
       "    </tr>\n",
       "  </tbody>\n",
       "</table>\n",
       "<p>424 rows × 9 columns</p>\n",
       "</div>"
      ],
      "text/plain": [
       "     Unnamed: 0           id                 date  ip   gender  \\\n",
       "0             0  10695921940  2023-10-04 16:59:00  浙江   Female   \n",
       "1             1  10696038327  2023-10-04 17:02:24  福建     Male   \n",
       "2             2  10695691786  2023-10-04 17:08:50  浙江     Male   \n",
       "3             3  10698881848  2023-10-08 16:30:50  福建  Unknown   \n",
       "4             4  10698899555  2023-10-08 16:34:25  浙江     Male   \n",
       "..          ...          ...                  ...  ..      ...   \n",
       "419         419  10755016037  2023-12-19 05:35:11  北京  Unknown   \n",
       "420         420  10749932644  2023-12-12 07:54:43  上海   Female   \n",
       "421         421  10750196814  2023-12-12 07:56:50  福建     Male   \n",
       "422         422  10753947364  2023-12-17 02:07:30  河南     Male   \n",
       "423         423  10758933423  2023-12-24 02:15:31  新疆  Unknown   \n",
       "\n",
       "     child_comment_count     parent_id  \\\n",
       "0                     40           NaN   \n",
       "1                      0  1.069592e+10   \n",
       "2                      0  1.069592e+10   \n",
       "3                      0  1.069592e+10   \n",
       "4                      0  1.069592e+10   \n",
       "..                   ...           ...   \n",
       "419                    0           NaN   \n",
       "420                    3           NaN   \n",
       "421                    0  1.074993e+10   \n",
       "422                    0  1.074993e+10   \n",
       "423                    0  1.074993e+10   \n",
       "\n",
       "                                                  text  sentiment  \n",
       "0    建议 条件 一步到位 上 gpt4   都 不用   退而求其次   bing   clau...   0.007502  \n",
       "1                                  gpt4 好   要钱 太贵   捂脸   0.011116  \n",
       "2                            找 几个 朋友 拼车   分担 费用 会 好 很多   0.642283  \n",
       "3                                  4 要钱   魔法   随时 账号 封   0.842227  \n",
       "4             要钱 很   物超所值   一堆 人瞎用 封号   朋友 共用 几个 月 都 没   0.730268  \n",
       "..                                                 ...        ...  \n",
       "419                        别尬 吹   文心 一言画 炒 饼 厉害   doge   0.258900  \n",
       "420                  图贴 道理 麽   文心 一言 都 说好   大 便当 巧克力 吃   0.880308  \n",
       "421                    提示 词   大 模型 都 出 不了 效果   日常 文心 言   0.985755  \n",
       "422                                看 主页 文心 4   0 数学 测试   0.236901  \n",
       "423                  文心 一言能 python 语言 编程   做 ppt   蛮 好   0.986844  \n",
       "\n",
       "[424 rows x 9 columns]"
      ]
     },
     "execution_count": 117,
     "metadata": {},
     "output_type": "execute_result"
    }
   ],
   "source": [
    "def sentiment(text):\n",
    "    return SnowNLP(text).sentiments\n",
    "# 使用 apply() 方法应用情感分析函数，但只对文本长度大于0的行进行处理\n",
    "df['text'] = df['text'].astype(str)\n",
    "df['sentiment'] = df[df['text'].apply(lambda x: len(x) > 0)]['text'].apply(sentiment)\n",
    "df"
   ]
  },
  {
   "cell_type": "code",
   "execution_count": 118,
   "id": "fc7a966d-dda5-47b1-beaf-62baee2d4f50",
   "metadata": {},
   "outputs": [
    {
     "data": {
      "image/png": "[encoded data removed]",
      "text/plain": [
       "<Figure size 640x480 with 1 Axes>"
      ]
     },
     "metadata": {},
     "output_type": "display_data"
    }
   ],
   "source": [
    "# 创建直方图\n",
    "plt.hist(df['sentiment'], bins=20, edgecolor='black')\n",
    "\n",
    "# 添加标题和标签\n",
    "plt.title('Sentiment Analysis Histogram')\n",
    "plt.xlabel('Sentiment Score')\n",
    "plt.ylabel('Frequency')\n",
    "\n",
    "# 显示图形\n",
    "plt.show()\n"
   ]
  },
  {
   "cell_type": "code",
   "execution_count": 119,
   "id": "bfd41076-5196-4d40-a243-b74aa33e7f73",
   "metadata": {},
   "outputs": [
    {
     "name": "stdout",
     "output_type": "stream",
     "text": [
      "119    很少 ai 搜 这类   不   古诗 带 意境   ai 现时 都 不好 使   看 文心...\n",
      "227    希望 一日 一款 视频 回答 ai 软件   实时 生成 视频 回答   希望 一日 大 数...\n",
      "254    没   一篇 符合 诗歌   月 圆之夜   中秋佳节   家人 团聚   欢声笑语   月...\n",
      "258    只不过 希望 单恋   消失 快得象 四月 里   一句 话   一个 眼色 却 教 胡思乱...\n",
      "376    文心 言   编 100 三个 字 名字   张小红   王小刚   刘小云   陈小华  ...\n",
      "Name: text, dtype: object\n"
     ]
    }
   ],
   "source": [
    "# 按照 sentiment 列进行降序排序，并选择前5条文本\n",
    "top_5_texts = df.sort_values(by='sentiment', ascending=False).head(5)['text']\n",
    "\n",
    "# 打印结果\n",
    "print(top_5_texts)"
   ]
  },
  {
   "cell_type": "code",
   "execution_count": 120,
   "id": "61174d26-2798-4726-828d-221959433465",
   "metadata": {},
   "outputs": [
    {
     "name": "stdout",
     "output_type": "stream",
     "text": [
      "378    问 文心 一言 3   5   3 杯 25   c 水 混合 多少度   答   3 杯 ...\n",
      "77     4 杯 25   水   混合     混合 后 水 温度     理解 温度 加权 平均 ...\n",
      "86     4 杯 温度 25   c 水 混合   最终 温度 取决于 杯水 体积 大小   假设 杯...\n",
      "71     才 试 下   4 杯 25   水   混合     混合 后 水 温度     理解 温...\n",
      "229    11 月 更新 后 gpt3   5 会 藏拙   敷衍   吃瓜   说 点 好话 发挥 ...\n",
      "Name: text, dtype: object\n"
     ]
    }
   ],
   "source": [
    "# 按照 sentiment 列进行升序排序，并选择前5条文本\n",
    "last_5_texts = df.sort_values(by='sentiment', ascending=True).head(5)['text']\n",
    "\n",
    "# 打印结果\n",
    "print(last_5_texts)"
   ]
  },
  {
   "cell_type": "markdown",
   "id": "08384ed0-559c-4dfc-a4be-94b397f16158",
   "metadata": {},
   "source": [
    "当查看具体的评论时，可以发现snowNLP的结果并不理想，snowNLP的语料库主要是电商评论数据，所以采取基于词典的方法。"
   ]
  },
  {
   "cell_type": "markdown",
   "id": "469746c7-d273-4356-ba16-97d785833197",
   "metadata": {},
   "source": [
    "#### 基于Boson情感词典"
   ]
  },
  {
   "cell_type": "code",
   "execution_count": 124,
   "id": "46121cb3-4a07-4de3-9863-2a153a4927ed",
   "metadata": {},
   "outputs": [
    {
     "data": {
      "text/html": [
       "<div>\n",
       "<style scoped>\n",
       "    .dataframe tbody tr th:only-of-type {\n",
       "        vertical-align: middle;\n",
       "    }\n",
       "\n",
       "    .dataframe tbody tr th {\n",
       "        vertical-align: top;\n",
       "    }\n",
       "\n",
       "    .dataframe thead th {\n",
       "        text-align: right;\n",
       "    }\n",
       "</style>\n",
       "<table border=\"1\" class=\"dataframe\">\n",
       "  <thead>\n",
       "    <tr style=\"text-align: right;\">\n",
       "      <th></th>\n",
       "      <th>key</th>\n",
       "      <th>score</th>\n",
       "    </tr>\n",
       "  </thead>\n",
       "  <tbody>\n",
       "    <tr>\n",
       "      <th>0</th>\n",
       "      <td>最尼玛</td>\n",
       "      <td>-6.704000</td>\n",
       "    </tr>\n",
       "    <tr>\n",
       "      <th>1</th>\n",
       "      <td>扰民</td>\n",
       "      <td>-6.497564</td>\n",
       "    </tr>\n",
       "    <tr>\n",
       "      <th>2</th>\n",
       "      <td>fuck...</td>\n",
       "      <td>-6.329634</td>\n",
       "    </tr>\n",
       "    <tr>\n",
       "      <th>3</th>\n",
       "      <td>RNM</td>\n",
       "      <td>-6.218613</td>\n",
       "    </tr>\n",
       "    <tr>\n",
       "      <th>4</th>\n",
       "      <td>wcnmlgb</td>\n",
       "      <td>-5.967100</td>\n",
       "    </tr>\n",
       "    <tr>\n",
       "      <th>...</th>\n",
       "      <td>...</td>\n",
       "      <td>...</td>\n",
       "    </tr>\n",
       "    <tr>\n",
       "      <th>114761</th>\n",
       "      <td>prada667</td>\n",
       "      <td>6.375039</td>\n",
       "    </tr>\n",
       "    <tr>\n",
       "      <th>114762</th>\n",
       "      <td>如虎添翼</td>\n",
       "      <td>6.375039</td>\n",
       "    </tr>\n",
       "    <tr>\n",
       "      <th>114763</th>\n",
       "      <td>定购</td>\n",
       "      <td>6.375039</td>\n",
       "    </tr>\n",
       "    <tr>\n",
       "      <th>114764</th>\n",
       "      <td>富婆团</td>\n",
       "      <td>6.375039</td>\n",
       "    </tr>\n",
       "    <tr>\n",
       "      <th>114765</th>\n",
       "      <td>赖世荣</td>\n",
       "      <td>6.375039</td>\n",
       "    </tr>\n",
       "  </tbody>\n",
       "</table>\n",
       "<p>114766 rows × 2 columns</p>\n",
       "</div>"
      ],
      "text/plain": [
       "             key     score\n",
       "0            最尼玛 -6.704000\n",
       "1             扰民 -6.497564\n",
       "2        fuck... -6.329634\n",
       "3            RNM -6.218613\n",
       "4        wcnmlgb -5.967100\n",
       "...          ...       ...\n",
       "114761  prada667  6.375039\n",
       "114762      如虎添翼  6.375039\n",
       "114763        定购  6.375039\n",
       "114764       富婆团  6.375039\n",
       "114765       赖世荣  6.375039\n",
       "\n",
       "[114766 rows x 2 columns]"
      ]
     },
     "execution_count": 124,
     "metadata": {},
     "output_type": "execute_result"
    }
   ],
   "source": [
    "# 加载玻森情感词典\n",
    "df_sentiment_score = pd.read_table(\"wenxinyiyan/BosonNLP_sentiment_score.txt\",sep= \" \",names=['key','score'])\n",
    "df_sentiment_score"
   ]
  },
  {
   "cell_type": "code",
   "execution_count": 125,
   "id": "532521cb-df9a-4d4b-a664-cbf49387b33f",
   "metadata": {},
   "outputs": [],
   "source": [
    "# 计算tokenized_text的sentiment score\n",
    "key = df_sentiment_score['key'].values.tolist()\n",
    "score = df_sentiment_score['score'].values.tolist()\n",
    "\n",
    "def getscore(text):\n",
    "    text_score = 0\n",
    "    # 使用jieba进行分词\n",
    "    text = str(text)\n",
    "    words = [word.strip() for word in jieba.lcut(text) if word.strip()]\n",
    "    for tokenized_text in words:\n",
    "        if tokenized_text in key:\n",
    "            text_score += score[key.index(tokenized_text)]\n",
    "    return text_score"
   ]
  },
  {
   "cell_type": "code",
   "execution_count": 126,
   "id": "2cec5832-f600-4efc-a495-9354f563f0f0",
   "metadata": {},
   "outputs": [
    {
     "data": {
      "text/html": [
       "<div>\n",
       "<style scoped>\n",
       "    .dataframe tbody tr th:only-of-type {\n",
       "        vertical-align: middle;\n",
       "    }\n",
       "\n",
       "    .dataframe tbody tr th {\n",
       "        vertical-align: top;\n",
       "    }\n",
       "\n",
       "    .dataframe thead th {\n",
       "        text-align: right;\n",
       "    }\n",
       "</style>\n",
       "<table border=\"1\" class=\"dataframe\">\n",
       "  <thead>\n",
       "    <tr style=\"text-align: right;\">\n",
       "      <th></th>\n",
       "      <th>Unnamed: 0</th>\n",
       "      <th>id</th>\n",
       "      <th>date</th>\n",
       "      <th>ip</th>\n",
       "      <th>gender</th>\n",
       "      <th>child_comment_count</th>\n",
       "      <th>parent_id</th>\n",
       "      <th>text</th>\n",
       "      <th>sentiment_score</th>\n",
       "    </tr>\n",
       "  </thead>\n",
       "  <tbody>\n",
       "    <tr>\n",
       "      <th>0</th>\n",
       "      <td>0</td>\n",
       "      <td>10695921940</td>\n",
       "      <td>2023-10-04 16:59:00</td>\n",
       "      <td>浙江</td>\n",
       "      <td>Female</td>\n",
       "      <td>40</td>\n",
       "      <td>NaN</td>\n",
       "      <td>建议 条件 一步到位 上 gpt4   都 不用   退而求其次   bing   clau...</td>\n",
       "      <td>5.426568</td>\n",
       "    </tr>\n",
       "    <tr>\n",
       "      <th>1</th>\n",
       "      <td>1</td>\n",
       "      <td>10696038327</td>\n",
       "      <td>2023-10-04 17:02:24</td>\n",
       "      <td>福建</td>\n",
       "      <td>Male</td>\n",
       "      <td>0</td>\n",
       "      <td>1.069592e+10</td>\n",
       "      <td>gpt4 好   要钱 太贵   捂脸</td>\n",
       "      <td>1.226295</td>\n",
       "    </tr>\n",
       "    <tr>\n",
       "      <th>2</th>\n",
       "      <td>2</td>\n",
       "      <td>10695691786</td>\n",
       "      <td>2023-10-04 17:08:50</td>\n",
       "      <td>浙江</td>\n",
       "      <td>Male</td>\n",
       "      <td>0</td>\n",
       "      <td>1.069592e+10</td>\n",
       "      <td>找 几个 朋友 拼车   分担 费用 会 好 很多</td>\n",
       "      <td>2.748294</td>\n",
       "    </tr>\n",
       "    <tr>\n",
       "      <th>3</th>\n",
       "      <td>3</td>\n",
       "      <td>10698881848</td>\n",
       "      <td>2023-10-08 16:30:50</td>\n",
       "      <td>福建</td>\n",
       "      <td>Unknown</td>\n",
       "      <td>0</td>\n",
       "      <td>1.069592e+10</td>\n",
       "      <td>4 要钱   魔法   随时 账号 封</td>\n",
       "      <td>6.295669</td>\n",
       "    </tr>\n",
       "    <tr>\n",
       "      <th>4</th>\n",
       "      <td>4</td>\n",
       "      <td>10698899555</td>\n",
       "      <td>2023-10-08 16:34:25</td>\n",
       "      <td>浙江</td>\n",
       "      <td>Male</td>\n",
       "      <td>0</td>\n",
       "      <td>1.069592e+10</td>\n",
       "      <td>要钱 很   物超所值   一堆 人瞎用 封号   朋友 共用 几个 月 都 没</td>\n",
       "      <td>0.248269</td>\n",
       "    </tr>\n",
       "    <tr>\n",
       "      <th>...</th>\n",
       "      <td>...</td>\n",
       "      <td>...</td>\n",
       "      <td>...</td>\n",
       "      <td>...</td>\n",
       "      <td>...</td>\n",
       "      <td>...</td>\n",
       "      <td>...</td>\n",
       "      <td>...</td>\n",
       "      <td>...</td>\n",
       "    </tr>\n",
       "    <tr>\n",
       "      <th>419</th>\n",
       "      <td>419</td>\n",
       "      <td>10755016037</td>\n",
       "      <td>2023-12-19 05:35:11</td>\n",
       "      <td>北京</td>\n",
       "      <td>Unknown</td>\n",
       "      <td>0</td>\n",
       "      <td>NaN</td>\n",
       "      <td>别尬 吹   文心 一言画 炒 饼 厉害   doge</td>\n",
       "      <td>-0.060674</td>\n",
       "    </tr>\n",
       "    <tr>\n",
       "      <th>420</th>\n",
       "      <td>420</td>\n",
       "      <td>10749932644</td>\n",
       "      <td>2023-12-12 07:54:43</td>\n",
       "      <td>上海</td>\n",
       "      <td>Female</td>\n",
       "      <td>3</td>\n",
       "      <td>NaN</td>\n",
       "      <td>图贴 道理 麽   文心 一言 都 说好   大 便当 巧克力 吃</td>\n",
       "      <td>-0.088735</td>\n",
       "    </tr>\n",
       "    <tr>\n",
       "      <th>421</th>\n",
       "      <td>421</td>\n",
       "      <td>10750196814</td>\n",
       "      <td>2023-12-12 07:56:50</td>\n",
       "      <td>福建</td>\n",
       "      <td>Male</td>\n",
       "      <td>0</td>\n",
       "      <td>1.074993e+10</td>\n",
       "      <td>提示 词   大 模型 都 出 不了 效果   日常 文心 言</td>\n",
       "      <td>5.505727</td>\n",
       "    </tr>\n",
       "    <tr>\n",
       "      <th>422</th>\n",
       "      <td>422</td>\n",
       "      <td>10753947364</td>\n",
       "      <td>2023-12-17 02:07:30</td>\n",
       "      <td>河南</td>\n",
       "      <td>Male</td>\n",
       "      <td>0</td>\n",
       "      <td>1.074993e+10</td>\n",
       "      <td>看 主页 文心 4   0 数学 测试</td>\n",
       "      <td>0.196548</td>\n",
       "    </tr>\n",
       "    <tr>\n",
       "      <th>423</th>\n",
       "      <td>423</td>\n",
       "      <td>10758933423</td>\n",
       "      <td>2023-12-24 02:15:31</td>\n",
       "      <td>新疆</td>\n",
       "      <td>Unknown</td>\n",
       "      <td>0</td>\n",
       "      <td>1.074993e+10</td>\n",
       "      <td>文心 一言能 python 语言 编程   做 ppt   蛮 好</td>\n",
       "      <td>0.177720</td>\n",
       "    </tr>\n",
       "  </tbody>\n",
       "</table>\n",
       "<p>424 rows × 9 columns</p>\n",
       "</div>"
      ],
      "text/plain": [
       "     Unnamed: 0           id                 date  ip   gender  \\\n",
       "0             0  10695921940  2023-10-04 16:59:00  浙江   Female   \n",
       "1             1  10696038327  2023-10-04 17:02:24  福建     Male   \n",
       "2             2  10695691786  2023-10-04 17:08:50  浙江     Male   \n",
       "3             3  10698881848  2023-10-08 16:30:50  福建  Unknown   \n",
       "4             4  10698899555  2023-10-08 16:34:25  浙江     Male   \n",
       "..          ...          ...                  ...  ..      ...   \n",
       "419         419  10755016037  2023-12-19 05:35:11  北京  Unknown   \n",
       "420         420  10749932644  2023-12-12 07:54:43  上海   Female   \n",
       "421         421  10750196814  2023-12-12 07:56:50  福建     Male   \n",
       "422         422  10753947364  2023-12-17 02:07:30  河南     Male   \n",
       "423         423  10758933423  2023-12-24 02:15:31  新疆  Unknown   \n",
       "\n",
       "     child_comment_count     parent_id  \\\n",
       "0                     40           NaN   \n",
       "1                      0  1.069592e+10   \n",
       "2                      0  1.069592e+10   \n",
       "3                      0  1.069592e+10   \n",
       "4                      0  1.069592e+10   \n",
       "..                   ...           ...   \n",
       "419                    0           NaN   \n",
       "420                    3           NaN   \n",
       "421                    0  1.074993e+10   \n",
       "422                    0  1.074993e+10   \n",
       "423                    0  1.074993e+10   \n",
       "\n",
       "                                                  text  sentiment_score  \n",
       "0    建议 条件 一步到位 上 gpt4   都 不用   退而求其次   bing   clau...         5.426568  \n",
       "1                                  gpt4 好   要钱 太贵   捂脸         1.226295  \n",
       "2                            找 几个 朋友 拼车   分担 费用 会 好 很多         2.748294  \n",
       "3                                  4 要钱   魔法   随时 账号 封         6.295669  \n",
       "4             要钱 很   物超所值   一堆 人瞎用 封号   朋友 共用 几个 月 都 没         0.248269  \n",
       "..                                                 ...              ...  \n",
       "419                        别尬 吹   文心 一言画 炒 饼 厉害   doge        -0.060674  \n",
       "420                  图贴 道理 麽   文心 一言 都 说好   大 便当 巧克力 吃        -0.088735  \n",
       "421                    提示 词   大 模型 都 出 不了 效果   日常 文心 言         5.505727  \n",
       "422                                看 主页 文心 4   0 数学 测试         0.196548  \n",
       "423                  文心 一言能 python 语言 编程   做 ppt   蛮 好         0.177720  \n",
       "\n",
       "[424 rows x 9 columns]"
      ]
     },
     "execution_count": 126,
     "metadata": {},
     "output_type": "execute_result"
    }
   ],
   "source": [
    "df = pd.read_csv('df_clean_stopwords_0424.csv')\n",
    "\n",
    "# 对 df 中的 tokenized_text 计算情感得分\n",
    "df['sentiment_score'] = df['text'].apply(getscore)\n",
    "df"
   ]
  },
  {
   "cell_type": "code",
   "execution_count": 127,
   "id": "26907579-fad4-4cc8-8d06-a0865a89df0f",
   "metadata": {},
   "outputs": [
    {
     "data": {
      "text/plain": [
       "count    424.000000\n",
       "mean       2.450860\n",
       "std        5.465605\n",
       "min       -8.190113\n",
       "25%       -0.418752\n",
       "50%        1.395053\n",
       "75%        3.902510\n",
       "max       49.087024\n",
       "Name: sentiment_score, dtype: float64"
      ]
     },
     "execution_count": 127,
     "metadata": {},
     "output_type": "execute_result"
    }
   ],
   "source": [
    "df['sentiment_score'].describe()"
   ]
  },
  {
   "cell_type": "code",
   "execution_count": 128,
   "id": "0f42e94a-651b-4103-b49b-21cbe7c3feb2",
   "metadata": {},
   "outputs": [
    {
     "data": {
      "image/png": "[encoded data removed]",
      "text/plain": [
       "<Figure size 640x480 with 1 Axes>"
      ]
     },
     "metadata": {},
     "output_type": "display_data"
    }
   ],
   "source": [
    "# 绘制直方图\n",
    "plt.hist(df['sentiment_score'], bins=10, edgecolor='black')\n",
    "plt.xlabel('Sentiment Score')\n",
    "plt.ylabel('Frequency')\n",
    "plt.title('Distribution of Score')\n",
    "plt.show()"
   ]
  },
  {
   "cell_type": "code",
   "execution_count": 112,
   "id": "4533fda2-8ab9-4622-bd5a-be980e59e548",
   "metadata": {},
   "outputs": [
    {
     "name": "stdout",
     "output_type": "stream",
     "text": [
      "310                                                                                                                                                                                                                                                                        chatgpt是openai开发的聊天生成模型 它可以用于生成对话 回答问题 提供解释等 文心一言是一种中文文本生成工具 它以古代文学作品为基础 可以生成具有古风特色的文言文句子 选择使用哪个工具取决于你的具体需求 如果你需要进行现代对话和实用场景的文本生成 chatgpt可能更适合 如果你需要使用古文风格的文本 文心一言可能更适合\n",
      "376    文心一言 我让他给我编100个三个字的名字 张小红 王小刚 刘小云 陈小华 赵小亮 黄小玲 周小燕 吴小雨 孙小雪 由于您需要的是100个名字 且只能输入99条回答 以下是继续生成的3字人名 11 郑小波 12 唐小芳 13 邓小强 14 冯小梅 15 韩小萍 16 叶小舟 17 曹小鹏 18 贾小敏 19 蒋小虎 20 谢小兰 21 魏小林 22 钟小静 23 萧小羽 24 姚小微 25 袁小鹏 26 黄小英 27 唐小强 28 杜小江 29 马小华 30 陈小云 31 刘小军 32 孟小雨 33 余小伟 34 赵小波 35 侯小萍 36 陆小芳 37 黄小杰 38 陈小玲 39 王小明 40 张小强 41 李小红 42 刘小刚 43 陈小华 44 张小亮 45 黄小玲 46 周小燕 47 吴小红 48 孙小刚 49 王小花 50 赵小黄 数量不对也就算了 离了小字你是活不了是吧 百家姓那么多字不够你用是吧 就是一坨 尴尬 尴尬 尴尬 尴尬\n",
      "378                                                                                                                                                             问文心一言3 5 3杯25 c的水混合在一起是多少度 答 我们有3杯25 c的水 现在我们要混合它们 问题是 混合后的水的温度是多少 我们需要理解温度的加法原理 假设每杯水的温度为 t1 t2 t3 因为温度是水的物理属性 当我们将相同温度的水混合时 其温度不会改变 所以混合后的水的温度仍然是 25 c 用数学公式 我们可以表示为 混合后的温度 t1 t2 t3 但因为所有水的温度都是25 c 所以混合后的温度 25 c 计算结果为 混合后的水的温度是 75 c 3杯25 c的水混合在一起仍然是 75 c 有谁开通文心一言4的 不知道4的如何\n",
      "71                                                                                                                                                                                                                       才试了下 我们有4杯25 的水 现在我们要将它们混合在一起 问题是 混合后的水的温度是多少 我们需要理解温度的加法原理 假设每杯水的温度为 t1 数量为 n1 杯 另一杯水的温度为 t2 数量为 n2 杯 混合后的水的温度为 t mix 根据温度的加法原理 混合后的水的温度可以用以下公式表示 t mix n1 t1 n2 t2 n1 n2 在本问题中 t1 25 n1 4 t2 25 n2 4 计算结果为 混合后的水的温度是 25\n",
      "254                                                                                                                                                                                                                                                                                                                                             没问题 以下是一篇符合您要求的诗歌 月圆之夜 中秋佳节 家人团聚 欢声笑语 月饼甜香 传递爱意 共赏明月 心灵相依 时光荏苒 岁月如梭 亲情永恒 不渝不移 愿人月两圆 幸福美满 团圆时刻 温馨永记\n",
      "Name: text, dtype: object\n"
     ]
    }
   ],
   "source": [
    "# 设置显示选项，使文本内容不折叠\n",
    "pd.set_option('display.max_colwidth', None)\n",
    "# 按照 sentiment 列进行降序排序，并选择前5条文本\n",
    "top_5_texts = df.sort_values(by='sentiment_score', ascending=False).head(5)['text']\n",
    "\n",
    "# 打印结果\n",
    "print(top_5_texts)"
   ]
  },
  {
   "cell_type": "code",
   "execution_count": 107,
   "id": "8e67a37e-e5d0-46d3-a4f5-59a0a63e385a",
   "metadata": {},
   "outputs": [
    {
     "name": "stdout",
     "output_type": "stream",
     "text": [
      "413    连说真话都做不到百度 作为一堆假话连篇大数据训练出来的百度文心居然还能比至少真话很多的cha...\n",
      "136    你是认真的 不是广告 文心一言我感觉和个傻屌似的 让它翻译个英文 都说了不要随意加词 就正常...\n",
      "391    你是认真的 不是广告 文心一言我感觉和个傻屌似的 让它翻译个英文 都说了不要随意加词 就正常...\n",
      "286             国内的人工智能都不行 这不能 问 那不能问 我让他给我写一个党务工作的文件都不行\n",
      "46               也就比垃圾强一点点 这就是我为啥一直看不起百度的原因 这么多年搞成了些啥玩意儿\n",
      "Name: text, dtype: object\n"
     ]
    }
   ],
   "source": [
    "# 按照 sentiment 列进行升序排序，并选择前5条文本\n",
    "last_5_texts = df.sort_values(by='sentiment_score', ascending=True).head(5)['text']\n",
    "\n",
    "# 打印结果\n",
    "print(last_5_texts)"
   ]
  },
  {
   "cell_type": "markdown",
   "id": "7ec17531-f387-4490-bf19-f03e47477298",
   "metadata": {},
   "source": [
    "从分数来看，对文心一言的评价整体还是正向的。该计算方法对消极评论的捕捉相对准确，但对于积极评论的捕捉显然不准确，无法区分体验内容的描述和体验。"
   ]
  },
  {
   "cell_type": "markdown",
   "id": "3c83017e-9722-40e1-8bdf-03c85ee05212",
   "metadata": {},
   "source": [
    "根据前面的结果可知，使用默认的模型和现有的标注好的情感字典准确率都不理想，因此应该使用机器学习或深度学习方法，马上学起来！"
   ]
  },
  {
   "cell_type": "markdown",
   "id": "a3350ed1-dbd7-41a0-a916-da64cc330fc6",
   "metadata": {},
   "source": [
    "### Topic Modeling"
   ]
  },
  {
   "cell_type": "code",
   "execution_count": 8,
   "id": "54763c3a-f1cf-435c-be1f-65a2521a1e73",
   "metadata": {},
   "outputs": [],
   "source": [
    "import tomotopy as tp"
   ]
  },
  {
   "cell_type": "code",
   "execution_count": 129,
   "id": "b7d4afd8-dd10-475c-8855-d2b10658a77a",
   "metadata": {},
   "outputs": [],
   "source": [
    "# 准备语料库\n",
    "df = pd.read_csv('df_clean_stopwords_0424.csv')\n",
    "training_data = df['text']"
   ]
  },
  {
   "cell_type": "code",
   "execution_count": 164,
   "id": "69eccb8a-7878-4091-8ac5-0d2e6cdb3107",
   "metadata": {},
   "outputs": [
    {
     "name": "stdout",
     "output_type": "stream",
     "text": [
      "Topic Model Training...\n",
      "\n",
      "\n",
      "Iteration: 0\tLog-likelihood: -8.477093318135285\n",
      "Iteration: 10\tLog-likelihood: -8.302247274441154\n",
      "Iteration: 20\tLog-likelihood: -8.215797729033063\n",
      "Iteration: 30\tLog-likelihood: -8.103542699150099\n",
      "Iteration: 40\tLog-likelihood: -8.0758390086365\n",
      "Iteration: 50\tLog-likelihood: -8.041727438823573\n",
      "Iteration: 60\tLog-likelihood: -8.018378414932629\n",
      "Iteration: 70\tLog-likelihood: -8.006833404277147\n",
      "Iteration: 80\tLog-likelihood: -8.014612553086065\n",
      "Iteration: 90\tLog-likelihood: -7.94517100796447\n"
     ]
    }
   ],
   "source": [
    "# 主题数量\n",
    "num_topics = 30\n",
    "# 主题词数\n",
    "num_topic_words = 10\n",
    "\n",
    "# 初始化模型\n",
    "model = tp.LDAModel(k=num_topics)\n",
    "\n",
    "# 将每个文档添加到模型中\n",
    "for text in training_data:\n",
    "    # 使用正则表达式去除空格\n",
    "    text = re.sub(r'\\s+', '', str(text))\n",
    "    model.add_doc(jieba.lcut(text)) \n",
    "\n",
    "print(\"Topic Model Training...\\n\\n\")\n",
    "# 迭代数据10次\n",
    "iterations = 10\n",
    "for i in range(0, 100, iterations):\n",
    "    model.train(iterations)\n",
    "    print(f'Iteration: {i}\\tLog-likelihood: {model.ll_per_word}')\n"
   ]
  },
  {
   "cell_type": "code",
   "execution_count": 171,
   "id": "1b9962bd-8f3b-4e7b-9ee5-dd192b5b3f03",
   "metadata": {},
   "outputs": [
    {
     "name": "stdout",
     "output_type": "stream",
     "text": [
      "\n",
      "Topic Model Results:\n",
      "\n",
      "\n",
      "✨Topic 1✨\n",
      "\n",
      "两个 中文 适合 一种 绘画 文本 更 都 试验 作品\n",
      "\n",
      "✨Topic 2✨\n",
      "\n",
      "问 公司 答案 魔法 问问 正面 封 信息 花钱 负面\n",
      "\n",
      "✨Topic 3✨\n",
      "\n",
      "都 说 看 训练 不 东西 需求 画 效果 素材\n",
      "\n",
      "✨Topic 4✨\n",
      "\n",
      "ai 国产 好 说 工具 软件 很多 挺 四个 使用者\n",
      "\n",
      "✨Topic 5✨\n",
      "\n",
      "提示 词 生成 效果 语言 会 关系 技巧 40 最\n",
      "\n",
      "✨Topic 6✨\n",
      "\n",
      "百度 握手 感觉 选择 设定 企业 对话 一个 选 搞\n",
      "\n",
      "✨Topic 7✨\n",
      "\n",
      "水 25c 温度 混合 后 答案 杯 最终 度水 改变\n",
      "\n",
      "✨Topic 8✨\n",
      "\n",
      "不用 几个 注册 下载 反馈 调用 好多 请教 上 官网\n",
      "\n",
      "✨Topic 9✨\n",
      "\n",
      "4 赞同 没 再 回复 bing 搜 不了 模式 还\n",
      "\n",
      "✨Topic 10✨\n",
      "\n",
      "尴尬 小强 周小燕 100 小雨 名字 坨 陈小华 黄小玲 26\n",
      "\n",
      "✨Topic 11✨\n",
      "\n",
      "gpt35 回答 豆包 综合 月 暗面 不了 情况 天工 精准\n",
      "\n",
      "✨Topic 12✨\n",
      "\n",
      "回答 生成 差距 人 想 chatgpt35 惊喜 只能 工具 越来越\n",
      "\n",
      "✨Topic 13✨\n",
      "\n",
      "梯子 自然 邮件 提问者 古诗 现时 名篇 中 扯皮 不好\n",
      "\n",
      "✨Topic 14✨\n",
      "\n",
      "文心 上 模型 大 gpt4 确实 都 强 不 代码\n",
      "\n",
      "✨Topic 15✨\n",
      "\n",
      "温度 混合 25 后水 杯水 4 杯 假设 体积 数量\n",
      "\n",
      "✨Topic 16✨\n",
      "\n",
      "图片 笑 查看 飙泪 35 写 功能 提醒 确实 奇怪\n",
      "\n",
      "✨Topic 17✨\n",
      "\n",
      "中文 gpt 更好 希望 gpt4 国内 才 视频 只 领先\n",
      "\n",
      "✨Topic 18✨\n",
      "\n",
      "不 一个 理解 gpt35 表达 更 机器 描述 朋友 对比\n",
      "\n",
      "✨Topic 19✨\n",
      "\n",
      "一句 英文 上下文 翻译 对话 说 屌 一模一样 太 听不懂\n",
      "\n",
      "✨Topic 20✨\n",
      "\n",
      "诗歌 人工智能 云 ai 一篇 只用 月 华为 期待 通用\n",
      "\n",
      "✨Topic 21✨\n",
      "\n",
      "文心 都 一言 35 感觉 豆包 还 会 不错 讯\n",
      "\n",
      "✨Topic 22✨\n",
      "\n",
      "百度 做 专业 搜索 领域 产品 调皮 看 居然 很大\n",
      "\n",
      "✨Topic 23✨\n",
      "\n",
      "模型 大 百度 数据 阿里 没用过 对比 开发 包括 还\n",
      "\n",
      "✨Topic 24✨\n",
      "\n",
      "没 很 写手 去 替代 简直 app 入口 松鼠 鳜鱼\n",
      "\n",
      "✨Topic 25✨\n",
      "\n",
      "不 大笑 收费 一点 话 不行 逻辑 中国 不好 用户\n",
      "\n",
      "✨Topic 26✨\n",
      "\n",
      "40 写 20 敏感 好像 更 一个月 好多 开 搭子\n",
      "\n",
      "✨Topic 27✨\n",
      "\n",
      "捂 脸 人工智能 一个 用 嘴 感觉 人 交流 合照\n",
      "\n",
      "✨Topic 28✨\n",
      "\n",
      "文心 言 一 捂脸 chatgpt 垃圾 我用 智障 doge 水平\n",
      "\n",
      "✨Topic 29✨\n",
      "\n",
      "国内 看 下 测试 国外 只不过 智谱 最新 越 胡说八道\n",
      "\n",
      "✨Topic 30✨\n",
      "\n",
      "通义 思考 千问 35 免费 后 网站 强 ip 质量\n",
      "\n"
     ]
    }
   ],
   "source": [
    "# 打印结果\n",
    "print(\"\\nTopic Model Results:\\n\\n\")\n",
    "\n",
    "topics = []\n",
    "topic_individual_words = []\n",
    "for topic_number in range(0, num_topics):\n",
    "    topic_words = ' '.join(word for word, prob in model.get_topic_words(topic_id=topic_number, top_n=num_topic_words))\n",
    "    topics.append(topic_words)\n",
    "    topic_individual_words.append(topic_words.split())\n",
    "    print(f\"✨Topic {topic_number+1}✨\\n\\n{topic_words}\\n\")"
   ]
  },
  {
   "cell_type": "code",
   "execution_count": 178,
   "id": "6e8aa6dd-d9bd-44f9-b100-ba466de8f097",
   "metadata": {},
   "outputs": [],
   "source": [
    "# 与主题最相关的n个评论\n",
    "topic_distributions = [list(doc.get_topic_dist()) for doc in model.docs]\n",
    "\n",
    "from IPython.display import Markdown, display\n",
    "\n",
    "def make_md(string):\n",
    "    display(Markdown(str(string))) #识别md语法\n",
    "\n",
    "def get_top_docs(docs, topic_distributions, topic_index, n=5):\n",
    "    \n",
    "    sorted_data = []\n",
    "    for _distribution, _document in zip(topic_distributions, docs):\n",
    "        sorted_data.append((_distribution[topic_index], _document))\n",
    "    print('here')\n",
    "\n",
    "    sorted_data.sort(key=lambda x: x[0], reverse=True)\n",
    "\n",
    "    \n",
    "    topic_words = topics[topic_index]\n",
    "\n",
    "    make_md(f\"### ✨Topic {topic_index+1}✨\\n\\n{topic_words}\\n\\n\")\n",
    "    print(\"---\")\n",
    "\n",
    "    for probability, doc in sorted_data[:n]:\n",
    "        # Make topic words bolded\n",
    "        for word in topic_words.split():\n",
    "            if word in doc.lower():\n",
    "                doc = re.sub(f\"\\\\b{word}\\\\b\", f\"**{word}**\", doc, re.IGNORECASE)\n",
    "\n",
    "        make_md(f'✨  \\n**Topic Probability**: {probability}  \\n**Document**: {doc}\\n\\n')\n",
    "\n",
    "    return"
   ]
  },
  {
   "cell_type": "code",
   "execution_count": 179,
   "id": "89f69693-607e-473c-a56e-3f3d9c5383c1",
   "metadata": {},
   "outputs": [
    {
     "name": "stdout",
     "output_type": "stream",
     "text": [
      "here\n"
     ]
    },
    {
     "data": {
      "text/markdown": [
       "### ✨Topic 29✨\n",
       "\n",
       "国内 看 下 测试 国外 只不过 智谱 最新 越 胡说八道\n",
       "\n"
      ],
      "text/plain": [
       "<IPython.core.display.Markdown object>"
      ]
     },
     "metadata": {},
     "output_type": "display_data"
    },
    {
     "name": "stdout",
     "output_type": "stream",
     "text": [
      "---\n"
     ]
    },
    {
     "data": {
      "text/markdown": [
       "✨  \n",
       "**Topic Probability**: 0.588763952255249  \n",
       "**Document**: 说到底 训练量   **越**   积累 **越**   如此而已   那批 宣传 **国外**   **只不过** 资本 雇佣 水军\n",
       "\n"
      ],
      "text/plain": [
       "<IPython.core.display.Markdown object>"
      ]
     },
     "metadata": {},
     "output_type": "display_data"
    },
    {
     "data": {
      "text/markdown": [
       "✨  \n",
       "**Topic Probability**: 0.4451751410961151  \n",
       "**Document**: glm4 更 优秀   **智谱** 很 看好   **国内** 第一 梯队\n",
       "\n"
      ],
      "text/plain": [
       "<IPython.core.display.Markdown object>"
      ]
     },
     "metadata": {},
     "output_type": "display_data"
    },
    {
     "data": {
      "text/markdown": [
       "✨  \n",
       "**Topic Probability**: 0.36659425497055054  \n",
       "**Document**: **国内** 那款 高考 **测试**   好\n",
       "\n"
      ],
      "text/plain": [
       "<IPython.core.display.Markdown object>"
      ]
     },
     "metadata": {},
     "output_type": "display_data"
    },
    {
     "data": {
      "text/markdown": [
       "✨  \n",
       "**Topic Probability**: 0.36659425497055054  \n",
       "**Document**: **看** 主页 文心 4   0 数学 **测试**\n",
       "\n"
      ],
      "text/plain": [
       "<IPython.core.display.Markdown object>"
      ]
     },
     "metadata": {},
     "output_type": "display_data"
    },
    {
     "data": {
      "text/markdown": [
       "✨  \n",
       "**Topic Probability**: 0.36070185899734497  \n",
       "**Document**: **国内** 大 模型 **看** 永远 赶不上 **国外**   **国外** 月亮 圆   是因为 **国内** 地方 太   **看** 打字   限制性 词汇 大 模型 难点\n",
       "\n"
      ],
      "text/plain": [
       "<IPython.core.display.Markdown object>"
      ]
     },
     "metadata": {},
     "output_type": "display_data"
    },
    {
     "data": {
      "text/markdown": [
       "✨  \n",
       "**Topic Probability**: 0.32526615262031555  \n",
       "**Document**: 说 **国内** **国外** 差距\n",
       "\n"
      ],
      "text/plain": [
       "<IPython.core.display.Markdown object>"
      ]
     },
     "metadata": {},
     "output_type": "display_data"
    },
    {
     "data": {
      "text/markdown": [
       "✨  \n",
       "**Topic Probability**: 0.3061656057834625  \n",
       "**Document**: gpt 端口   **只不过** monica 平台 **测试**   发文 正好   文心 4   0 gpt3   5 要强   gpt4   体验 说 不算   **最新** superclue **测试** 题目   **看** **下** 对比   查看 图片\n",
       "\n"
      ],
      "text/plain": [
       "<IPython.core.display.Markdown object>"
      ]
     },
     "metadata": {},
     "output_type": "display_data"
    },
    {
     "data": {
      "text/markdown": [
       "✨  \n",
       "**Topic Probability**: 0.27632829546928406  \n",
       "**Document**: 用过   **国内** 月 暗面   kimi   强   最强 gpt4   tuber   有个 年底 **最新** 测评 参考 **下**   查看 图片\n",
       "\n"
      ],
      "text/plain": [
       "<IPython.core.display.Markdown object>"
      ]
     },
     "metadata": {},
     "output_type": "display_data"
    },
    {
     "data": {
      "text/markdown": [
       "✨  \n",
       "**Topic Probability**: 0.2705931067466736  \n",
       "**Document**: chatgpt   本来 闭源   开源 语言 大 模型 **国内** 阿里\n",
       "\n"
      ],
      "text/plain": [
       "<IPython.core.display.Markdown object>"
      ]
     },
     "metadata": {},
     "output_type": "display_data"
    },
    {
     "data": {
      "text/markdown": [
       "✨  \n",
       "**Topic Probability**: 0.2705931067466736  \n",
       "**Document**: **国内** 永远 只会 抄   ai 领域 吊打   干 不行\n",
       "\n"
      ],
      "text/plain": [
       "<IPython.core.display.Markdown object>"
      ]
     },
     "metadata": {},
     "output_type": "display_data"
    },
    {
     "data": {
      "text/markdown": [
       "✨  \n",
       "**Topic Probability**: 0.24886907637119293  \n",
       "**Document**: **国内** 几个 **下** 定论   至少 **智谱** 清言 文心 强 好多\n",
       "\n"
      ],
      "text/plain": [
       "<IPython.core.display.Markdown object>"
      ]
     },
     "metadata": {},
     "output_type": "display_data"
    },
    {
     "data": {
      "text/markdown": [
       "✨  \n",
       "**Topic Probability**: 0.2483340948820114  \n",
       "**Document**: 想 免费   看下 回答   https   zhuanlan   zhihu     p   67   8919794\n",
       "\n"
      ],
      "text/plain": [
       "<IPython.core.display.Markdown object>"
      ]
     },
     "metadata": {},
     "output_type": "display_data"
    },
    {
     "data": {
      "text/markdown": [
       "✨  \n",
       "**Topic Probability**: 0.24683862924575806  \n",
       "**Document**: 说服力 降低\n",
       "\n"
      ],
      "text/plain": [
       "<IPython.core.display.Markdown object>"
      ]
     },
     "metadata": {},
     "output_type": "display_data"
    },
    {
     "data": {
      "text/markdown": [
       "✨  \n",
       "**Topic Probability**: 0.23487123847007751  \n",
       "**Document**: 前段时间 升级 成功   用来 大概 俩 周 还 没   想 升级 写 文章   一种 方法   对比 **看**\n",
       "\n"
      ],
      "text/plain": [
       "<IPython.core.display.Markdown object>"
      ]
     },
     "metadata": {},
     "output_type": "display_data"
    },
    {
     "data": {
      "text/markdown": [
       "✨  \n",
       "**Topic Probability**: 0.21443766355514526  \n",
       "**Document**: 排行榜   没 **测试** **国内**   **国内** 大 模型 比不上 gpt4   超过 3   5 不少\n",
       "\n"
      ],
      "text/plain": [
       "<IPython.core.display.Markdown object>"
      ]
     },
     "metadata": {},
     "output_type": "display_data"
    },
    {
     "data": {
      "text/markdown": [
       "✨  \n",
       "**Topic Probability**: 0.20159639418125153  \n",
       "**Document**: 百度 助力 算了吧\n",
       "\n"
      ],
      "text/plain": [
       "<IPython.core.display.Markdown object>"
      ]
     },
     "metadata": {},
     "output_type": "display_data"
    },
    {
     "data": {
      "text/markdown": [
       "✨  \n",
       "**Topic Probability**: 0.20042578876018524  \n",
       "**Document**: 代码 gpt4 好   **国内** 模型 代码 强 好像 阿里 通义 千问 2   0 **智谱** 清言   **看** **下** **最新** 评测   https   www   zhihu     question   6361   00562   answer   3345336241\n",
       "\n"
      ],
      "text/plain": [
       "<IPython.core.display.Markdown object>"
      ]
     },
     "metadata": {},
     "output_type": "display_data"
    },
    {
     "data": {
      "text/markdown": [
       "✨  \n",
       "**Topic Probability**: 0.20042578876018524  \n",
       "**Document**: chatgpt3   5 免费   障碍 外网 ip 地址   解决   **国内** 网站 调用 gpt3   5api 网站   看下 一篇 文章 介绍   https   www   zhihu     question   6357   89313   answer   3374556071\n",
       "\n"
      ],
      "text/plain": [
       "<IPython.core.display.Markdown object>"
      ]
     },
     "metadata": {},
     "output_type": "display_data"
    },
    {
     "data": {
      "text/markdown": [
       "✨  \n",
       "**Topic Probability**: 0.18837562203407288  \n",
       "**Document**: 文心 模糊 区域 略微 局限   gpt 搞 不来 **国内** 政治 背板 官话   **看** 需求\n",
       "\n"
      ],
      "text/plain": [
       "<IPython.core.display.Markdown object>"
      ]
     },
     "metadata": {},
     "output_type": "display_data"
    },
    {
     "data": {
      "text/markdown": [
       "✨  \n",
       "**Topic Probability**: 0.18837562203407288  \n",
       "**Document**: 中文 诗词 创作 最 没 参考 维度   ai 用途 逻辑 分析 归纳   公文 助手\n",
       "\n"
      ],
      "text/plain": [
       "<IPython.core.display.Markdown object>"
      ]
     },
     "metadata": {},
     "output_type": "display_data"
    },
    {
     "data": {
      "text/markdown": [
       "✨  \n",
       "**Topic Probability**: 0.17036986351013184  \n",
       "**Document**: 分享   注册 登陆 方法\n",
       "\n"
      ],
      "text/plain": [
       "<IPython.core.display.Markdown object>"
      ]
     },
     "metadata": {},
     "output_type": "display_data"
    },
    {
     "data": {
      "text/markdown": [
       "✨  \n",
       "**Topic Probability**: 0.17036986351013184  \n",
       "**Document**: gpt4   **国内** 中文 领先\n",
       "\n"
      ],
      "text/plain": [
       "<IPython.core.display.Markdown object>"
      ]
     },
     "metadata": {},
     "output_type": "display_data"
    },
    {
     "data": {
      "text/markdown": [
       "✨  \n",
       "**Topic Probability**: 0.17036986351013184  \n",
       "**Document**: **智谱** 清言 很 好\n",
       "\n"
      ],
      "text/plain": [
       "<IPython.core.display.Markdown object>"
      ]
     },
     "metadata": {},
     "output_type": "display_data"
    },
    {
     "data": {
      "text/markdown": [
       "✨  \n",
       "**Topic Probability**: 0.17036986351013184  \n",
       "**Document**: divv 都 **国内** 强 完\n",
       "\n"
      ],
      "text/plain": [
       "<IPython.core.display.Markdown object>"
      ]
     },
     "metadata": {},
     "output_type": "display_data"
    },
    {
     "data": {
      "text/markdown": [
       "✨  \n",
       "**Topic Probability**: 0.17036986351013184  \n",
       "**Document**: **国外** 别用 国产   大笑\n",
       "\n"
      ],
      "text/plain": [
       "<IPython.core.display.Markdown object>"
      ]
     },
     "metadata": {},
     "output_type": "display_data"
    },
    {
     "data": {
      "text/markdown": [
       "✨  \n",
       "**Topic Probability**: 0.16796205937862396  \n",
       "**Document**: 有个 疑问   ai 满地   人用 提示 词 有没有 生成 文章   图片   用于 商业 会 版权 纠纷\n",
       "\n"
      ],
      "text/plain": [
       "<IPython.core.display.Markdown object>"
      ]
     },
     "metadata": {},
     "output_type": "display_data"
    },
    {
     "data": {
      "text/markdown": [
       "✨  \n",
       "**Topic Probability**: 0.15605729818344116  \n",
       "**Document**: **只不过** 免费版 效果 会 稍微 差 不至于   **国内** 通用 毛病   捂脸\n",
       "\n"
      ],
      "text/plain": [
       "<IPython.core.display.Markdown object>"
      ]
     },
     "metadata": {},
     "output_type": "display_data"
    },
    {
     "data": {
      "text/markdown": [
       "✨  \n",
       "**Topic Probability**: 0.15605729818344116  \n",
       "**Document**: 垃圾 强 一点点   为啥 看不起 百度 原因   多年 搞成 些 玩意儿\n",
       "\n"
      ],
      "text/plain": [
       "<IPython.core.display.Markdown object>"
      ]
     },
     "metadata": {},
     "output_type": "display_data"
    },
    {
     "data": {
      "text/markdown": [
       "✨  \n",
       "**Topic Probability**: 0.14801214635372162  \n",
       "**Document**: 国产 豆包 星火 好用些   **国外** claude2   gpt4   百度 文心 一般般   开发 平台 不错   api 做做 垂直 批量 单一   逻辑 openai   gpt4   组合 好   落地 都 微调   聊天 窗口 里 瞎 问问 干不了 正经 活\n",
       "\n"
      ],
      "text/plain": [
       "<IPython.core.display.Markdown object>"
      ]
     },
     "metadata": {},
     "output_type": "display_data"
    },
    {
     "data": {
      "text/markdown": [
       "✨  \n",
       "**Topic Probability**: 0.14801214635372162  \n",
       "**Document**: 用过 最起码 计算机 行业 没见 一个 朋友 文心 一言好   都 gpt   文心 言 发布   百度 股价 暴跌   都 **看** 文心 技术水平 不   前景 不 看好   文心 迭代 弥补 技术 差距   gpt 差多\n",
       "\n"
      ],
      "text/plain": [
       "<IPython.core.display.Markdown object>"
      ]
     },
     "metadata": {},
     "output_type": "display_data"
    },
    {
     "data": {
      "text/markdown": [
       "✨  \n",
       "**Topic Probability**: 0.14751961827278137  \n",
       "**Document**: 豆包 用过 没   捂脸\n",
       "\n"
      ],
      "text/plain": [
       "<IPython.core.display.Markdown object>"
      ]
     },
     "metadata": {},
     "output_type": "display_data"
    },
    {
     "data": {
      "text/markdown": [
       "✨  \n",
       "**Topic Probability**: 0.13586345314979553  \n",
       "**Document**: 我试 **下**   确实 回复   再 追问 **下**   逻辑 自洽   或许 理解 角度   图片\n",
       "\n"
      ],
      "text/plain": [
       "<IPython.core.display.Markdown object>"
      ]
     },
     "metadata": {},
     "output_type": "display_data"
    },
    {
     "data": {
      "text/markdown": [
       "✨  \n",
       "**Topic Probability**: 0.1300739198923111  \n",
       "**Document**: **国内** ip 申请 都 申请 不了\n",
       "\n"
      ],
      "text/plain": [
       "<IPython.core.display.Markdown object>"
      ]
     },
     "metadata": {},
     "output_type": "display_data"
    },
    {
     "data": {
      "text/markdown": [
       "✨  \n",
       "**Topic Probability**: 0.1300739198923111  \n",
       "**Document**: 排行 里 **国内** 模型   查看 图片\n",
       "\n"
      ],
      "text/plain": [
       "<IPython.core.display.Markdown object>"
      ]
     },
     "metadata": {},
     "output_type": "display_data"
    },
    {
     "data": {
      "text/markdown": [
       "✨  \n",
       "**Topic Probability**: 0.1300739198923111  \n",
       "**Document**: 文心 言 算了吧   回答   官场 油条\n",
       "\n"
      ],
      "text/plain": [
       "<IPython.core.display.Markdown object>"
      ]
     },
     "metadata": {},
     "output_type": "display_data"
    },
    {
     "data": {
      "text/markdown": [
       "✨  \n",
       "**Topic Probability**: 0.12301970273256302  \n",
       "**Document**: **看** 领域   **测试** 内容   个人感觉 文心 4   0 gpt3   5 比是 胜出   文心 3   5 领域 不 gpt   3   5 差   **看**   gpt4   有时候 **测试** gpt3   5 回答 更差 情况     国产 一点 不差     文心 言   **智谱** 清言   月 暗面   百川 智能   天工 搜索 都 特色   综合 真的 不差\n",
       "\n"
      ],
      "text/plain": [
       "<IPython.core.display.Markdown object>"
      ]
     },
     "metadata": {},
     "output_type": "display_data"
    },
    {
     "data": {
      "text/markdown": [
       "✨  \n",
       "**Topic Probability**: 0.12254617363214493  \n",
       "**Document**: **看** 用来 干嘛   哪家   一本正经 胡说 霸道 都 一手   文心 言 确实 **胡说八道** 实力 更强   gpt 偶尔 还 正经 回答   答案   文鑫 一演 没   实在 不 问   还 一本正经 答出来   告诉 信\n",
       "\n"
      ],
      "text/plain": [
       "<IPython.core.display.Markdown object>"
      ]
     },
     "metadata": {},
     "output_type": "display_data"
    },
    {
     "data": {
      "text/markdown": [
       "✨  \n",
       "**Topic Probability**: 0.12177500873804092  \n",
       "**Document**: 总体 上 **看**   文心 言 确实 **国内**   不 陈泽宇 gpt3   5   指出 错误 后能 改正 腾讯 混元 指出 错误   告诉 正确 答案   不 改正\n",
       "\n"
      ],
      "text/plain": [
       "<IPython.core.display.Markdown object>"
      ]
     },
     "metadata": {},
     "output_type": "display_data"
    },
    {
     "data": {
      "text/markdown": [
       "✨  \n",
       "**Topic Probability**: 0.12177500873804092  \n",
       "**Document**: 作者 gpt 都 正经 端口   评价 gpt4 可信度 有限   体验 gpt3   5 碾压   文   更 别提 4     希望 **国内** 大 模型 能干 出 一番 天地\n",
       "\n"
      ],
      "text/plain": [
       "<IPython.core.display.Markdown object>"
      ]
     },
     "metadata": {},
     "output_type": "display_data"
    },
    {
     "data": {
      "text/markdown": [
       "✨  \n",
       "**Topic Probability**: 0.12029700726270676  \n",
       "**Document**: b 站 测评   claude2 bard 表现 都 不 咋样   gpt4 遥遥领先   **国内** 文心 4 通义 千问\n",
       "\n"
      ],
      "text/plain": [
       "<IPython.core.display.Markdown object>"
      ]
     },
     "metadata": {},
     "output_type": "display_data"
    }
   ],
   "source": [
    "# 看看任意一个topic下的一些高相关的评论\n",
    "get_top_docs(training_data, topic_distributions, topic_index=28, n=40) # 主题第29的前40条评论"
   ]
  },
  {
   "cell_type": "markdown",
   "id": "78f98d30-107c-4cdf-a343-5619af9e6d77",
   "metadata": {},
   "source": [
    "在反复调整主题数量和主体字数后，比较明显的主题有和竞品的比较，包括GPT，豆包，天工等，以及表达态度的表情如握手，捂脸，以及AI领域内的头部企业名字和术语如IP，API。"
   ]
  },
  {
   "cell_type": "markdown",
   "id": "0288080f-e18d-401c-9aa0-2ea34f72ad7d",
   "metadata": {},
   "source": [
    "## 小结与思考"
   ]
  },
  {
   "cell_type": "markdown",
   "id": "61458003-b50a-4561-b405-6f641abee4e9",
   "metadata": {},
   "source": [
    "本项目主要是练习中文语库的清理，情感分析和主体建模。以下的看法是从非常初学者的视角，因此都是非常主观的。\n",
    "1. 因为使用现有的字典和默认的模型，情感分析结果并不准确，因此显然我应当花时间继续研究深度学习下的情感分析。当然，这与软件产品的评论的复杂性也有关，尤其这些评论是在与ChatGPT的比较下进行的，且个人推测参与此讨论的受众本身态度应该是偏向质疑文心一言的。\n",
    "2. 在分词上，我当前是没有删掉英文和数字的，因为该产品的竞品中很多是英文名，且数字可能代表版本号，个人认为这样结果更有意义，但确实会导致语料库不是那么干净。\n",
    "3. 主题建模的结果给我的感觉和校内练习时一样，不论中文还是英文，提炼的主题词我认为都不具有代表性，但主题词下的内容确实呈现相对强的相关性，使用模型后还是需要精读才能了解内容。\n"
   ]
  }
 ],
 "metadata": {
  "kernelspec": {
   "display_name": "Python 3 (ipykernel)",
   "language": "python",
   "name": "python3"
  },
  "language_info": {
   "codemirror_mode": {
    "name": "ipython",
    "version": 3
   },
   "file_extension": ".py",
   "mimetype": "text/x-python",
   "name": "python",
   "nbconvert_exporter": "python",
   "pygments_lexer": "ipython3",
   "version": "3.9.18"
  }
 },
 "nbformat": 4,
 "nbformat_minor": 5
}
